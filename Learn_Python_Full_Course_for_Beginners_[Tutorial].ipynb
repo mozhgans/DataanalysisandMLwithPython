{
  "nbformat": 4,
  "nbformat_minor": 0,
  "metadata": {
    "colab": {
      "provenance": []
    },
    "kernelspec": {
      "name": "python3",
      "display_name": "Python 3"
    },
    "language_info": {
      "name": "python"
    }
  },
  "cells": [
    {
      "cell_type": "markdown",
      "source": [
        "https://www.youtube.com/watch?v=1cAv-A6EbZE"
      ],
      "metadata": {
        "id": "RjgGTQtZINV8"
      }
    },
    {
      "cell_type": "code",
      "execution_count": 1,
      "metadata": {
        "colab": {
          "base_uri": "https://localhost:8080/"
        },
        "id": "aHSgpX9bbXrP",
        "outputId": "faee4fd8-b7f2-437a-e1da-9d936f093bec"
      },
      "outputs": [
        {
          "output_type": "stream",
          "name": "stdout",
          "text": [
            "22\n"
          ]
        }
      ],
      "source": [
        "#convert a number into a string:\n",
        "mynumber = 22\n",
        "print(str(mynumber))"
      ]
    },
    {
      "cell_type": "code",
      "source": [
        "#the absolute value of a number:\n",
        "ii = -22\n",
        "abs(ii)"
      ],
      "metadata": {
        "colab": {
          "base_uri": "https://localhost:8080/"
        },
        "id": "dHhf1KBXbt_h",
        "outputId": "dcfa3b77-4c4e-4ca8-9956-9d2c0be5e3c5"
      },
      "execution_count": 2,
      "outputs": [
        {
          "output_type": "execute_result",
          "data": {
            "text/plain": [
              "22"
            ]
          },
          "metadata": {},
          "execution_count": 2
        }
      ]
    },
    {
      "cell_type": "code",
      "source": [
        "#power of a number:\n",
        "pow(3, 2)"
      ],
      "metadata": {
        "colab": {
          "base_uri": "https://localhost:8080/"
        },
        "id": "tsrxip5YcRFN",
        "outputId": "9c50dd00-6817-4ce0-e37a-83838edb3867"
      },
      "execution_count": 3,
      "outputs": [
        {
          "output_type": "execute_result",
          "data": {
            "text/plain": [
              "9"
            ]
          },
          "metadata": {},
          "execution_count": 3
        }
      ]
    },
    {
      "cell_type": "code",
      "source": [
        "#maximum of numbers:\n",
        "max(3, 22, 1)"
      ],
      "metadata": {
        "colab": {
          "base_uri": "https://localhost:8080/"
        },
        "id": "bg8FB7MKcXBw",
        "outputId": "e73599ac-b43d-42bc-d424-db297eaf2f48"
      },
      "execution_count": 4,
      "outputs": [
        {
          "output_type": "execute_result",
          "data": {
            "text/plain": [
              "22"
            ]
          },
          "metadata": {},
          "execution_count": 4
        }
      ]
    },
    {
      "cell_type": "code",
      "source": [
        "round(3.22)"
      ],
      "metadata": {
        "colab": {
          "base_uri": "https://localhost:8080/"
        },
        "id": "AQbhOgZ0cb2n",
        "outputId": "3f657654-400c-4fa5-8fa4-3401e3a4cd8d"
      },
      "execution_count": 5,
      "outputs": [
        {
          "output_type": "execute_result",
          "data": {
            "text/plain": [
              "3"
            ]
          },
          "metadata": {},
          "execution_count": 5
        }
      ]
    },
    {
      "cell_type": "code",
      "source": [
        "round(7.8)"
      ],
      "metadata": {
        "colab": {
          "base_uri": "https://localhost:8080/"
        },
        "id": "EbGI0YW-cf3I",
        "outputId": "9f3dbd73-5e07-4345-d30a-5719cba7b430"
      },
      "execution_count": 6,
      "outputs": [
        {
          "output_type": "execute_result",
          "data": {
            "text/plain": [
              "8"
            ]
          },
          "metadata": {},
          "execution_count": 6
        }
      ]
    },
    {
      "cell_type": "code",
      "source": [
        "from math import *\n",
        "floor(3.9)"
      ],
      "metadata": {
        "colab": {
          "base_uri": "https://localhost:8080/"
        },
        "id": "gTXzjlNdcrqf",
        "outputId": "41c801a4-5cdc-4258-841d-91cebe1de981"
      },
      "execution_count": 8,
      "outputs": [
        {
          "output_type": "execute_result",
          "data": {
            "text/plain": [
              "3"
            ]
          },
          "metadata": {},
          "execution_count": 8
        }
      ]
    },
    {
      "cell_type": "code",
      "source": [
        "# the input function:\n",
        "name = input(\"enter your name\")\n",
        "print(\"my \" + \"name \" + \"is \" + name)"
      ],
      "metadata": {
        "colab": {
          "base_uri": "https://localhost:8080/"
        },
        "id": "_CZ4PLCpdGz_",
        "outputId": "9f7be63a-8860-4e9b-ca21-96edca3761dc"
      },
      "execution_count": 10,
      "outputs": [
        {
          "output_type": "stream",
          "name": "stdout",
          "text": [
            "enter your namebahar\n",
            "my name is bahar\n"
          ]
        }
      ]
    },
    {
      "cell_type": "code",
      "source": [
        "# if the input above is a number, the python does not consider it as a number, it considers it as a string!!\n",
        "# so to avoid it, we should use: int(num), or float(num)"
      ],
      "metadata": {
        "id": "Sfw0eP7TdUux"
      },
      "execution_count": null,
      "outputs": []
    },
    {
      "cell_type": "code",
      "source": [
        "color = input(\"enter a color: \")\n",
        "noun = input(\"enter a name: \")\n",
        "celebrity = input(\"enter name of a celebrity: \")\n",
        "print(\" The Good color is \" + color)\n",
        "print(\"The good noun is \" + noun)\n",
        "print(\"The good celebrity is \" + celebrity)\n"
      ],
      "metadata": {
        "colab": {
          "base_uri": "https://localhost:8080/"
        },
        "id": "6nMICsg_e1tc",
        "outputId": "03e6ab32-b7b2-485a-9985-49a69f9d3c2d"
      },
      "execution_count": 11,
      "outputs": [
        {
          "output_type": "stream",
          "name": "stdout",
          "text": [
            "enter a color: Abi\n",
            "enter a name: Kaveh\n",
            "enter name of a celebrity: Kaveh\n",
            " The Good color is Abi\n",
            "The good noun is Kaveh\n",
            "The good celebrity is Kaveh\n"
          ]
        }
      ]
    },
    {
      "cell_type": "code",
      "source": [
        "friends = [\"Kaveh\", \"Mari\", \"bahar\"]\n",
        "print(friends[0])"
      ],
      "metadata": {
        "colab": {
          "base_uri": "https://localhost:8080/"
        },
        "id": "i9qYymfOj87a",
        "outputId": "5b56b3d0-5d09-46a9-fa1a-51f7ae609c4a"
      },
      "execution_count": 16,
      "outputs": [
        {
          "output_type": "stream",
          "name": "stdout",
          "text": [
            "Kaveh\n"
          ]
        }
      ]
    },
    {
      "cell_type": "code",
      "source": [
        "nums = [1, 2, 3]"
      ],
      "metadata": {
        "id": "jsyy-IFkkxVN"
      },
      "execution_count": 14,
      "outputs": []
    },
    {
      "cell_type": "code",
      "source": [
        "friends = [\"Kaveh\", \"Mari\", \"bahar\"]\n",
        "nums = [1, 2, 3]\n",
        "friends.extend(nums)\n",
        "print(friends)"
      ],
      "metadata": {
        "colab": {
          "base_uri": "https://localhost:8080/"
        },
        "id": "POzP0cHek1h-",
        "outputId": "35cafda8-a759-42c4-cd46-13e5c7336b1e"
      },
      "execution_count": 19,
      "outputs": [
        {
          "output_type": "stream",
          "name": "stdout",
          "text": [
            "['Kaveh', 'Mari', 'bahar', 1, 2, 3]\n"
          ]
        }
      ]
    },
    {
      "cell_type": "code",
      "source": [
        "friends.append(\"ali\")\n",
        "print(friends)"
      ],
      "metadata": {
        "colab": {
          "base_uri": "https://localhost:8080/"
        },
        "id": "bRynbdbUlZqL",
        "outputId": "efae3be0-543e-4e11-cee5-c2c0c66f0c95"
      },
      "execution_count": 20,
      "outputs": [
        {
          "output_type": "stream",
          "name": "stdout",
          "text": [
            "['Kaveh', 'Mari', 'bahar', 1, 2, 3, 'ali']\n"
          ]
        }
      ]
    },
    {
      "cell_type": "code",
      "source": [
        "friends.insert(1, \"baharr\")\n",
        "print(friends)"
      ],
      "metadata": {
        "colab": {
          "base_uri": "https://localhost:8080/"
        },
        "id": "gfwWCN-zlg8_",
        "outputId": "9309719c-f227-4d56-dc55-b003f846a68e"
      },
      "execution_count": 23,
      "outputs": [
        {
          "output_type": "stream",
          "name": "stdout",
          "text": [
            "['Kaveh', 'baharr', 'Mari', 'bahar', 1, 2, 3, 'ali']\n"
          ]
        }
      ]
    },
    {
      "cell_type": "code",
      "source": [
        "friends.clear()"
      ],
      "metadata": {
        "id": "xfjJ1LYxlsqn"
      },
      "execution_count": null,
      "outputs": []
    },
    {
      "cell_type": "code",
      "source": [
        "friends.pop(3)"
      ],
      "metadata": {
        "colab": {
          "base_uri": "https://localhost:8080/",
          "height": 36
        },
        "id": "-EWSLUWal2Aj",
        "outputId": "b6ec273d-b7b7-4d61-d7ea-7c37511b8bce"
      },
      "execution_count": 25,
      "outputs": [
        {
          "output_type": "execute_result",
          "data": {
            "text/plain": [
              "'bahar'"
            ],
            "application/vnd.google.colaboratory.intrinsic+json": {
              "type": "string"
            }
          },
          "metadata": {},
          "execution_count": 25
        }
      ]
    },
    {
      "cell_type": "code",
      "source": [
        "nums.sort()\n",
        "print(nums)"
      ],
      "metadata": {
        "colab": {
          "base_uri": "https://localhost:8080/"
        },
        "id": "0P1oxOs6mjXl",
        "outputId": "df36ff59-fcc2-45d3-a6ae-5353a1afcaca"
      },
      "execution_count": 27,
      "outputs": [
        {
          "output_type": "stream",
          "name": "stdout",
          "text": [
            "[1, 2, 3]\n"
          ]
        }
      ]
    },
    {
      "cell_type": "code",
      "source": [
        "nums.reverse()\n",
        "print(nums)"
      ],
      "metadata": {
        "colab": {
          "base_uri": "https://localhost:8080/"
        },
        "id": "W93h_6tumtUq",
        "outputId": "e534773e-2dc4-4ce7-91ba-d6c128fadb8e"
      },
      "execution_count": 30,
      "outputs": [
        {
          "output_type": "stream",
          "name": "stdout",
          "text": [
            "[3, 2, 1]\n"
          ]
        }
      ]
    },
    {
      "cell_type": "code",
      "source": [
        "nums2 = nums.copy()\n",
        "print(nums2)"
      ],
      "metadata": {
        "colab": {
          "base_uri": "https://localhost:8080/"
        },
        "id": "UTbrTqA2m5Qa",
        "outputId": "818d4be5-eca3-4d98-8285-a2c8a133095b"
      },
      "execution_count": 32,
      "outputs": [
        {
          "output_type": "stream",
          "name": "stdout",
          "text": [
            "[3, 2, 1]\n"
          ]
        }
      ]
    },
    {
      "cell_type": "code",
      "source": [
        "#tuples: are immutable; can not change\n",
        "coordinates = (4, 5)\n",
        "print(coordinates[1])"
      ],
      "metadata": {
        "colab": {
          "base_uri": "https://localhost:8080/"
        },
        "id": "MDsCog6wnGw8",
        "outputId": "3ca205fa-a36f-4d12-f707-7c56edd3a1be"
      },
      "execution_count": 34,
      "outputs": [
        {
          "output_type": "stream",
          "name": "stdout",
          "text": [
            "5\n"
          ]
        }
      ]
    },
    {
      "cell_type": "code",
      "source": [
        "#functions\n",
        "def myfunc():\n",
        "    print(\"hi\")\n",
        "\n",
        "#I have to call the function to execute the function"
      ],
      "metadata": {
        "id": "iqNGfk90oRwj"
      },
      "execution_count": 35,
      "outputs": []
    },
    {
      "cell_type": "code",
      "source": [
        "myfunc()"
      ],
      "metadata": {
        "colab": {
          "base_uri": "https://localhost:8080/"
        },
        "id": "gR3MVGG3pBWt",
        "outputId": "0b22b5d5-c704-4a2d-d1a3-488a00c0e84f"
      },
      "execution_count": 36,
      "outputs": [
        {
          "output_type": "stream",
          "name": "stdout",
          "text": [
            "hi\n"
          ]
        }
      ]
    },
    {
      "cell_type": "code",
      "source": [
        "def myfunc2(name):\n",
        "    print(\"hi\" + name)\n",
        "\n",
        "myfunc2(\" Kaveh\")"
      ],
      "metadata": {
        "colab": {
          "base_uri": "https://localhost:8080/"
        },
        "id": "BkQdhy4RpEzH",
        "outputId": "57c4e667-c220-44e0-f535-dccf95e6099a"
      },
      "execution_count": 39,
      "outputs": [
        {
          "output_type": "stream",
          "name": "stdout",
          "text": [
            "hi Kaveh\n"
          ]
        }
      ]
    },
    {
      "cell_type": "code",
      "source": [
        "#we need \"return\" for a function:\n",
        "\n",
        "def cube(num):\n",
        "    num*num*num\n",
        "\n",
        "\n",
        "\n",
        "print(cube(3))"
      ],
      "metadata": {
        "colab": {
          "base_uri": "https://localhost:8080/"
        },
        "id": "S_l2ILmrpjCr",
        "outputId": "a4ed6175-3b20-4ae6-b5ad-0c4686b0eebb"
      },
      "execution_count": 40,
      "outputs": [
        {
          "output_type": "stream",
          "name": "stdout",
          "text": [
            "None\n"
          ]
        }
      ]
    },
    {
      "cell_type": "code",
      "source": [
        "def cube(num):\n",
        "    return num*num*num\n",
        "\n",
        "\n",
        "\n",
        "print(cube(3))"
      ],
      "metadata": {
        "colab": {
          "base_uri": "https://localhost:8080/"
        },
        "id": "k8cp7yM8qeep",
        "outputId": "1036062b-541f-49de-d7b7-4e537b5cda81"
      },
      "execution_count": 41,
      "outputs": [
        {
          "output_type": "stream",
          "name": "stdout",
          "text": [
            "27\n"
          ]
        }
      ]
    },
    {
      "cell_type": "code",
      "source": [
        "ismale = False\n",
        "istall = False\n",
        "if ismale or istall:\n",
        "    print(\"you are male\")\n",
        "else:\n",
        "    print(\"you are not a man\")"
      ],
      "metadata": {
        "colab": {
          "base_uri": "https://localhost:8080/"
        },
        "id": "whabueZbqneu",
        "outputId": "f6a17f83-483f-442b-d36c-1b690e6e22fd"
      },
      "execution_count": 3,
      "outputs": [
        {
          "output_type": "stream",
          "name": "stdout",
          "text": [
            "you are not a man\n"
          ]
        }
      ]
    },
    {
      "cell_type": "code",
      "source": [
        "ismale = False\n",
        "istall = True\n",
        "if ismale and istall:\n",
        "    print(\"you are male\")\n",
        "else:\n",
        "    print(\"you are not a man\")"
      ],
      "metadata": {
        "colab": {
          "base_uri": "https://localhost:8080/"
        },
        "id": "MtOaTT1AQwfS",
        "outputId": "bd7472d5-1a79-4d40-c4d6-e5e79170a504"
      },
      "execution_count": 5,
      "outputs": [
        {
          "output_type": "stream",
          "name": "stdout",
          "text": [
            "you are not a man\n"
          ]
        }
      ]
    },
    {
      "cell_type": "code",
      "source": [
        "ismale = False\n",
        "istall = False\n",
        "if ismale or istall:\n",
        "    print(\"you are male\")\n",
        "elif ismale and not(ismale):\n",
        "    print(\"hi\")\n",
        "else:\n",
        "    print(\"you are not a man\")"
      ],
      "metadata": {
        "colab": {
          "base_uri": "https://localhost:8080/"
        },
        "id": "3HtyI5LVRCCA",
        "outputId": "d3fb5dee-1f04-4d35-e7a7-2af5bcb7cd71"
      },
      "execution_count": 6,
      "outputs": [
        {
          "output_type": "stream",
          "name": "stdout",
          "text": [
            "you are not a man\n"
          ]
        }
      ]
    },
    {
      "cell_type": "code",
      "source": [
        "n1 = float(input(print(\"enter the first number\")))\n",
        "n2 = float(input(print(\"enter the second number\")))\n",
        "op = input(print(\"enter the operator\"))\n",
        "if op == \"+\":\n",
        "    print(n1 + n2)\n",
        "elif op == \"-\":\n",
        "    print(n1 - n2)\n",
        "elif op == \"*\":\n",
        "    print(n1 * n2)\n",
        "elif op == \"/\":\n",
        "    print(n1 / n2)\n",
        "else:\n",
        "    print(\"not a valid operator\")"
      ],
      "metadata": {
        "colab": {
          "base_uri": "https://localhost:8080/"
        },
        "id": "LDjLF3j0RB6t",
        "outputId": "463b6af6-fed0-41a7-8049-4268638405c8"
      },
      "execution_count": 8,
      "outputs": [
        {
          "output_type": "stream",
          "name": "stdout",
          "text": [
            "enter the first number\n",
            "None44\n",
            "enter the second number\n",
            "None55\n",
            "enter the operator\n",
            "None/\n",
            "0.8\n"
          ]
        }
      ]
    },
    {
      "cell_type": "code",
      "source": [
        "mdic = {\n",
        "    \"jan\": \"january\",\n",
        "    \"feb\": \"february\"\n",
        "\n",
        "\n",
        "}"
      ],
      "metadata": {
        "id": "hqTX3yT3RB1t"
      },
      "execution_count": 9,
      "outputs": []
    },
    {
      "cell_type": "code",
      "source": [
        "mdic[\"feb\"]"
      ],
      "metadata": {
        "colab": {
          "base_uri": "https://localhost:8080/",
          "height": 36
        },
        "id": "aGew-T48T6jB",
        "outputId": "12260d94-5bdc-4554-b132-8a1dd90a0b93"
      },
      "execution_count": 11,
      "outputs": [
        {
          "output_type": "execute_result",
          "data": {
            "text/plain": [
              "'february'"
            ],
            "application/vnd.google.colaboratory.intrinsic+json": {
              "type": "string"
            }
          },
          "metadata": {},
          "execution_count": 11
        }
      ]
    },
    {
      "cell_type": "code",
      "source": [
        "mdic.get(\"feb\")\n",
        "#if the key is not in the dictionary , we can also use get\n"
      ],
      "metadata": {
        "colab": {
          "base_uri": "https://localhost:8080/",
          "height": 36
        },
        "id": "w3zjqjpeUECr",
        "outputId": "7f0bc5c1-510e-4994-9c86-f5a48c50e362"
      },
      "execution_count": 12,
      "outputs": [
        {
          "output_type": "execute_result",
          "data": {
            "text/plain": [
              "'february'"
            ],
            "application/vnd.google.colaboratory.intrinsic+json": {
              "type": "string"
            }
          },
          "metadata": {},
          "execution_count": 12
        }
      ]
    },
    {
      "cell_type": "code",
      "source": [
        "i = 22\n",
        "while i<=30:\n",
        "    print(i)\n",
        "    i += 1"
      ],
      "metadata": {
        "colab": {
          "base_uri": "https://localhost:8080/"
        },
        "id": "CeyfalW0Uvxw",
        "outputId": "44eaec10-63ab-413b-908b-47306fae1c07"
      },
      "execution_count": 14,
      "outputs": [
        {
          "output_type": "stream",
          "name": "stdout",
          "text": [
            "22\n",
            "23\n",
            "24\n",
            "25\n",
            "26\n",
            "27\n",
            "28\n",
            "29\n",
            "30\n"
          ]
        }
      ]
    },
    {
      "cell_type": "code",
      "source": [
        "secretword = \"Kaveh joonam\"\n",
        "guess = \"\"\n",
        "guesscount = 0\n",
        "\n",
        "while guess != secretword:\n",
        "    guess = input(\"enter the word: \")\n",
        "    guesscount += 1\n",
        "print(guesscount)\n",
        "print(\"you win\")"
      ],
      "metadata": {
        "colab": {
          "base_uri": "https://localhost:8080/"
        },
        "id": "lPa38cggUvrS",
        "outputId": "65ca547d-33da-4efc-c112-7ab26629bbe5"
      },
      "execution_count": 18,
      "outputs": [
        {
          "output_type": "stream",
          "name": "stdout",
          "text": [
            "enter the word: kaveh\n",
            "enter the word: Kaveh joonam\n",
            "2\n",
            "you win\n"
          ]
        }
      ]
    },
    {
      "cell_type": "code",
      "source": [
        "for letter in \"Kaveh joonam\":\n",
        "    print(letter)"
      ],
      "metadata": {
        "colab": {
          "base_uri": "https://localhost:8080/"
        },
        "id": "NrTBSo8XWTfi",
        "outputId": "91bfd8b7-c05b-41c8-b2ef-3d4cbd8ab95e"
      },
      "execution_count": 19,
      "outputs": [
        {
          "output_type": "stream",
          "name": "stdout",
          "text": [
            "K\n",
            "a\n",
            "v\n",
            "e\n",
            "h\n",
            " \n",
            "j\n",
            "o\n",
            "o\n",
            "n\n",
            "a\n",
            "m\n"
          ]
        }
      ]
    },
    {
      "cell_type": "code",
      "source": [
        "friends = [\"kaveh\", \"bahar\"]\n",
        "for i in friends:\n",
        "    print(i)"
      ],
      "metadata": {
        "colab": {
          "base_uri": "https://localhost:8080/"
        },
        "id": "Ue8PZsgvZ-DD",
        "outputId": "46590462-f2f6-4c17-d944-61cd7ddc79d1"
      },
      "execution_count": 23,
      "outputs": [
        {
          "output_type": "stream",
          "name": "stdout",
          "text": [
            "kaveh\n",
            "bahar\n"
          ]
        }
      ]
    },
    {
      "cell_type": "code",
      "source": [
        "for i in range(3, 10):\n",
        "    print(i)"
      ],
      "metadata": {
        "colab": {
          "base_uri": "https://localhost:8080/"
        },
        "id": "TQ4j-YpMZ9sz",
        "outputId": "d0370563-a1ea-4be6-b9a2-0336f042ecc7"
      },
      "execution_count": 24,
      "outputs": [
        {
          "output_type": "stream",
          "name": "stdout",
          "text": [
            "3\n",
            "4\n",
            "5\n",
            "6\n",
            "7\n",
            "8\n",
            "9\n"
          ]
        }
      ]
    },
    {
      "cell_type": "code",
      "source": [
        "len(friends)"
      ],
      "metadata": {
        "colab": {
          "base_uri": "https://localhost:8080/"
        },
        "id": "2QEMpr4UZ_Fw",
        "outputId": "c1e99c50-5ec5-487e-c8a6-07e127d5886a"
      },
      "execution_count": 25,
      "outputs": [
        {
          "output_type": "execute_result",
          "data": {
            "text/plain": [
              "2"
            ]
          },
          "metadata": {},
          "execution_count": 25
        }
      ]
    },
    {
      "cell_type": "code",
      "source": [
        "def power(basenumber, powernumber):\n",
        "    result = 1\n",
        "    for index in range(powernumber):\n",
        "        result = result * basenumber\n",
        "    return result\n",
        "\n",
        "\n",
        "print(power(2, 3))\n",
        ""
      ],
      "metadata": {
        "colab": {
          "base_uri": "https://localhost:8080/"
        },
        "id": "okikfqYzal-d",
        "outputId": "0f6ea69d-d476-441f-ad3d-ba1b29f7214d"
      },
      "execution_count": 26,
      "outputs": [
        {
          "output_type": "stream",
          "name": "stdout",
          "text": [
            "8\n"
          ]
        }
      ]
    },
    {
      "cell_type": "code",
      "source": [
        "input(print(\"enter the base number: \"))\n",
        "    input(print(\"enter the power: \"))"
      ],
      "metadata": {
        "id": "s81rgomzb31_"
      },
      "execution_count": null,
      "outputs": []
    },
    {
      "cell_type": "code",
      "source": [
        "twodarray = [[1, 2], [3,4], [5,6,7], [0]]"
      ],
      "metadata": {
        "id": "7SgutSE4dDKe"
      },
      "execution_count": 28,
      "outputs": []
    },
    {
      "cell_type": "code",
      "source": [
        "print(twodarray[1][1])"
      ],
      "metadata": {
        "colab": {
          "base_uri": "https://localhost:8080/"
        },
        "id": "uPaLGHladDAO",
        "outputId": "6592eadd-1b36-48fc-8842-b0cfe41ecfc3"
      },
      "execution_count": 30,
      "outputs": [
        {
          "output_type": "stream",
          "name": "stdout",
          "text": [
            "4\n"
          ]
        }
      ]
    },
    {
      "cell_type": "code",
      "source": [
        "#nested for loop:\n",
        "for row in twodarray:\n",
        "    print(row)"
      ],
      "metadata": {
        "colab": {
          "base_uri": "https://localhost:8080/"
        },
        "id": "0HLqMzNhdish",
        "outputId": "bc4decac-9dcb-42b4-8557-40a4a5c423a4"
      },
      "execution_count": 31,
      "outputs": [
        {
          "output_type": "stream",
          "name": "stdout",
          "text": [
            "[1, 2]\n",
            "[3, 4]\n",
            "[5, 6, 7]\n",
            "[0]\n"
          ]
        }
      ]
    },
    {
      "cell_type": "code",
      "source": [
        "for row in twodarray:\n",
        "    for column in row:\n",
        "        print(column)"
      ],
      "metadata": {
        "colab": {
          "base_uri": "https://localhost:8080/"
        },
        "id": "y_6d8_5YdyAt",
        "outputId": "251a0940-6801-491f-f2a6-ab9e9adfe0d2"
      },
      "execution_count": 32,
      "outputs": [
        {
          "output_type": "stream",
          "name": "stdout",
          "text": [
            "1\n",
            "2\n",
            "3\n",
            "4\n",
            "5\n",
            "6\n",
            "7\n",
            "0\n"
          ]
        }
      ]
    },
    {
      "cell_type": "code",
      "source": [
        "def translator(phrase):\n",
        "    translation = \"\"\n",
        "    for letter in phrase:\n",
        "        if letter in \"AEIOUaeiou\":     #if letter.lower() in \"AEIOUaeiou\":\n",
        "            translation = translation + \"k\"\n",
        "        else:\n",
        "            translation = translation + letter\n",
        "\n",
        "    return translation"
      ],
      "metadata": {
        "id": "mThKDeYld7Em"
      },
      "execution_count": 40,
      "outputs": []
    },
    {
      "cell_type": "code",
      "source": [
        "print(translator(\"bahar\"))"
      ],
      "metadata": {
        "colab": {
          "base_uri": "https://localhost:8080/"
        },
        "id": "5VvV9yaSd8IC",
        "outputId": "c9cb8d14-de3e-4457-85b6-90fcce52c37c"
      },
      "execution_count": 41,
      "outputs": [
        {
          "output_type": "stream",
          "name": "stdout",
          "text": [
            "bkhkr\n"
          ]
        }
      ]
    },
    {
      "cell_type": "code",
      "source": [
        "'''\n",
        "fecef\n",
        "'''\n",
        "\n",
        "## both ways for comment"
      ],
      "metadata": {
        "colab": {
          "base_uri": "https://localhost:8080/",
          "height": 36
        },
        "id": "KVJUKvu0d79J",
        "outputId": "6e7b84d8-574e-41df-ceca-41ce6e72fe10"
      },
      "execution_count": 42,
      "outputs": [
        {
          "output_type": "execute_result",
          "data": {
            "text/plain": [
              "'\\nfecef\\n'"
            ],
            "application/vnd.google.colaboratory.intrinsic+json": {
              "type": "string"
            }
          },
          "metadata": {},
          "execution_count": 42
        }
      ]
    },
    {
      "cell_type": "code",
      "source": [
        "#try:\n",
        "\n",
        "try:\n",
        "    number = int(input(\"enter a number: \"))\n",
        "    print(number)\n",
        "except:\n",
        "     print(\"invalid input\")"
      ],
      "metadata": {
        "colab": {
          "base_uri": "https://localhost:8080/"
        },
        "id": "FYt-GUdyg6iC",
        "outputId": "d774d40a-34f3-4bee-f466-3258b901be95"
      },
      "execution_count": 45,
      "outputs": [
        {
          "output_type": "stream",
          "name": "stdout",
          "text": [
            "enter a number: kaveh\n",
            "invalid input\n"
          ]
        }
      ]
    },
    {
      "cell_type": "code",
      "source": [
        "#read files:\n",
        "\n",
        "open(file.txt, \"r\")\n",
        "open(file.txt, \"W\")\n",
        "open(file.txt, \"a\")\n",
        "open(file.txt, \"r+\")"
      ],
      "metadata": {
        "id": "6jT3cNMbhVI9"
      },
      "execution_count": null,
      "outputs": []
    },
    {
      "cell_type": "code",
      "source": [
        "#if the file is readable: we can use .readable()\n",
        "print(file.readable())\n",
        "print(file.read())\n",
        "print(file.readline())\n"
      ],
      "metadata": {
        "id": "im1gvP_mi_GL"
      },
      "execution_count": null,
      "outputs": []
    },
    {
      "cell_type": "code",
      "source": [
        "print(file.readline())\n",
        "#what it does is putting each line of the file in a LIST , so we can access each line of the file by this:\n",
        "print(file.readline()[1])"
      ],
      "metadata": {
        "id": "9Zbx_GXTjyXI"
      },
      "execution_count": null,
      "outputs": []
    },
    {
      "cell_type": "code",
      "source": [
        "filetoread = open(\"file.txt\", \"r\")\n",
        "for files in filetoread.readlines():\n",
        "    print(files)\n",
        "filetoread.close()"
      ],
      "metadata": {
        "id": "W_DVDR5JkQT-"
      },
      "execution_count": null,
      "outputs": []
    },
    {
      "cell_type": "code",
      "source": [
        "#append to the file:\n",
        "filetoread = open(\"file.txt\", \"a\")\n",
        "filetoread.write(\"\\nthis is a new line\")\n",
        "filetoread.close()\n"
      ],
      "metadata": {
        "id": "Ckfrt6Makl7n"
      },
      "execution_count": null,
      "outputs": []
    },
    {
      "cell_type": "code",
      "source": [
        "#w will write over all the lines in the file:\n",
        "filetoread = open(\"file.txt\", \"w\")\n",
        "filetoread.write(\"\\nthis is a new line\")\n",
        "filetoread.close()\n",
        "#but if I have the name of the file a new name, it will create a new file"
      ],
      "metadata": {
        "id": "pJ2q43RMklxB"
      },
      "execution_count": 46,
      "outputs": []
    },
    {
      "cell_type": "code",
      "source": [
        "#append to the file:\n",
        "filetoread = open(\"file.txt\", \"r\")\n",
        "\n",
        "filetoread.close()"
      ],
      "metadata": {
        "id": "tRdJBO4_m8hP"
      },
      "execution_count": 47,
      "outputs": []
    },
    {
      "cell_type": "code",
      "source": [
        "filetoread"
      ],
      "metadata": {
        "colab": {
          "base_uri": "https://localhost:8080/"
        },
        "id": "Bk_1e3C_nAUt",
        "outputId": "c9d6621d-df0f-443d-ce15-8b86efa476db"
      },
      "execution_count": 48,
      "outputs": [
        {
          "output_type": "execute_result",
          "data": {
            "text/plain": [
              "<_io.TextIOWrapper name='file.txt' mode='r' encoding='UTF-8'>"
            ]
          },
          "metadata": {},
          "execution_count": 48
        }
      ]
    },
    {
      "cell_type": "code",
      "source": [
        "#modules: if i haveanother python file including many functions and operations and variables, we canuse that external module into\n",
        "#our current python file, then it has access to all those functions and everything inside that other python file\n",
        "\n"
      ],
      "metadata": {
        "id": "nNNDfh5xnGD9"
      },
      "execution_count": null,
      "outputs": []
    },
    {
      "cell_type": "code",
      "source": [
        "#with classes we can define our own data type\n",
        "\n",
        "class student:\n",
        "\n",
        "    def __init__(self, name, major, gpa, isonprobation):\n",
        "        self.name = name\n",
        "        self.major = major\n",
        "        self.gpa = gpa\n",
        "        self.isonprobation = isonprobation\n",
        "\n"
      ],
      "metadata": {
        "id": "6h5mYrnLsa5J"
      },
      "execution_count": 10,
      "outputs": []
    },
    {
      "cell_type": "code",
      "source": [
        "#from student import student\n",
        "student1 = student(\"jim\", \"cs\", 3, False)\n"
      ],
      "metadata": {
        "id": "NgIG8bDktoBa"
      },
      "execution_count": 28,
      "outputs": []
    },
    {
      "cell_type": "code",
      "source": [
        "print(student1.name)"
      ],
      "metadata": {
        "colab": {
          "base_uri": "https://localhost:8080/"
        },
        "id": "Myf5MzFTy6Z3",
        "outputId": "e6f4db56-6802-42cd-e249-dff7e2534c70"
      },
      "execution_count": 12,
      "outputs": [
        {
          "output_type": "stream",
          "name": "stdout",
          "text": [
            "jim\n"
          ]
        }
      ]
    },
    {
      "cell_type": "code",
      "source": [
        "question_prompt = [\n",
        "    \"what color are apples?\\n(a) red\\n(b) yellow\\n(c) black\\n\\n\",\n",
        "    \"who is you favorite person in the whole world?\\n(a) Kaveh\\n(b) Kaveh joone delam\",\n",
        "    \"where is your favorite spot?\\n(a) Kaveh's baghal\\n(b) Kaveh's del\\n(c) Kaveh's tooye delesh\"\n",
        "]\n",
        "\n",
        "question_prompt"
      ],
      "metadata": {
        "colab": {
          "base_uri": "https://localhost:8080/"
        },
        "id": "lulmkp8f5h7E",
        "outputId": "8ba59338-33b7-4e51-9cd7-bfa19e17e6e4"
      },
      "execution_count": 14,
      "outputs": [
        {
          "output_type": "execute_result",
          "data": {
            "text/plain": [
              "['what color are apples?\\n(a) red\\n(b) yellow\\n(c) black\\n\\n',\n",
              " 'who is you favorite person in the whole world?\\n(a) Kaveh\\n(b) Kaveh joone delam',\n",
              " \"where is your favorite spot?\\n(a) Kaveh's baghal\\n(b) Kaveh's del\\n(c) Kaveh's tooye delesh\"]"
            ]
          },
          "metadata": {},
          "execution_count": 14
        }
      ]
    },
    {
      "cell_type": "code",
      "source": [
        "class questionanswer:\n",
        "    def __init__(self, prompt, answer):\n",
        "        self.prompt = prompt\n",
        "        self.answer = answer\n",
        ""
      ],
      "metadata": {
        "id": "h_RCyrlX6n1_"
      },
      "execution_count": 17,
      "outputs": []
    },
    {
      "cell_type": "code",
      "source": [
        "questions=[\n",
        "    questionanswer(question_prompt[0], \"a\"),\n",
        "    questionanswer(question_prompt[1], \"b\"),\n",
        "    questionanswer(question_prompt[2], \"b\")\n",
        "\n",
        "]"
      ],
      "metadata": {
        "id": "vzP3ukqT7ukU"
      },
      "execution_count": 18,
      "outputs": []
    },
    {
      "cell_type": "code",
      "source": [
        "def user(questions):\n",
        "    res = 0\n",
        "    for question in questions:\n",
        "        answer = input(question.prompt)\n",
        "        if answer == question.answer:\n",
        "            res += 1\n",
        "    print(\"you got\" + str(res) + \"/\" + str(len(questions)) + \"correct\")"
      ],
      "metadata": {
        "id": "67pFVTwR8cFx"
      },
      "execution_count": 24,
      "outputs": []
    },
    {
      "cell_type": "code",
      "source": [
        "user(questions)"
      ],
      "metadata": {
        "colab": {
          "base_uri": "https://localhost:8080/"
        },
        "id": "FV-i3Wds9hjy",
        "outputId": "2392b5ea-89c6-4aa4-a49a-524f74b31c9e"
      },
      "execution_count": 25,
      "outputs": [
        {
          "output_type": "stream",
          "name": "stdout",
          "text": [
            "what color are apples?\n",
            "(a) red\n",
            "(b) yellow\n",
            "(c) black\n",
            "\n",
            "a\n",
            "who is you favorite person in the whole world?\n",
            "(a) Kaveh\n",
            "(b) Kaveh joone delamb\n",
            "where is your favorite spot?\n",
            "(a) Kaveh's baghal\n",
            "(b) Kaveh's del\n",
            "(c) Kaveh's tooye deleshb\n",
            "you got3/3correct\n"
          ]
        }
      ]
    },
    {
      "cell_type": "code",
      "source": [
        "class student:\n",
        "\n",
        "    def __init__(self, name, major, gpa, isonprobation):\n",
        "        self.name = name\n",
        "        self.major = major\n",
        "        self.gpa = gpa\n",
        "        self.isonprobation = isonprobation\n",
        "\n",
        "    def honor(self):\n",
        "        if self.gpa >= 3.5:\n",
        "            return True\n",
        "        else:\n",
        "            return False"
      ],
      "metadata": {
        "id": "O2NFUveYAyef"
      },
      "execution_count": 26,
      "outputs": []
    },
    {
      "cell_type": "code",
      "source": [
        "print(student1.honor())"
      ],
      "metadata": {
        "colab": {
          "base_uri": "https://localhost:8080/"
        },
        "id": "XJNTxvEeBIUx",
        "outputId": "1f128399-01fa-414b-9bb2-18e2906a66ba"
      },
      "execution_count": 29,
      "outputs": [
        {
          "output_type": "stream",
          "name": "stdout",
          "text": [
            "False\n"
          ]
        }
      ]
    }
  ]
}