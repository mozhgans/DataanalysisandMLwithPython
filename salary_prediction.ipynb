{
  "nbformat": 4,
  "nbformat_minor": 0,
  "metadata": {
    "colab": {
      "name": "salary prediction.ipynb",
      "provenance": [],
      "authorship_tag": "ABX9TyPlWBw/8bH9Klr0W1TpZkVi",
      "include_colab_link": true
    },
    "kernelspec": {
      "name": "python3",
      "display_name": "Python 3"
    }
  },
  "cells": [
    {
      "cell_type": "markdown",
      "metadata": {
        "id": "view-in-github",
        "colab_type": "text"
      },
      "source": [
        "<a href=\"https://colab.research.google.com/github/mozhgans/DataanalysisandMLwithPython/blob/main/salary_prediction.ipynb\" target=\"_parent\"><img src=\"https://colab.research.google.com/assets/colab-badge.svg\" alt=\"Open In Colab\"/></a>"
      ]
    },
    {
      "cell_type": "markdown",
      "metadata": {
        "id": "4cy7qKON4DLE"
      },
      "source": [
        "https://towardsdatascience.com/a-beginners-guide-to-data-analysis-machine-learning-with-python-adult-salary-dataset-e5fc028b6f0a"
      ]
    },
    {
      "cell_type": "markdown",
      "metadata": {
        "id": "0YqV1H8Z4Meq"
      },
      "source": [
        "Problem statement:\r\n",
        "You have been provided with an Excel dataset that has 15 columns and 48842 rows. Our task is to analyze the dataset and predict whether the income of an adult will exceed 50k per year or not by developing a supervised machine learning model.\r\n"
      ]
    },
    {
      "cell_type": "code",
      "metadata": {
        "colab": {
          "base_uri": "https://localhost:8080/"
        },
        "id": "RJ0DawRk3-td",
        "outputId": "b4ca15f2-6e70-413f-86ce-0172f6826ac9"
      },
      "source": [
        "# Import libraries \r\n",
        "\r\n",
        "import numpy as np # linear algebra\r\n",
        "import pandas as pd # data processing, \r\n",
        "\r\n",
        "# Libraries for data visualization\r\n",
        "import matplotlib.pyplot as pplt  \r\n",
        "import seaborn as sns \r\n",
        "from pandas.plotting import scatter_matrix\r\n",
        "\r\n",
        "# Import scikit_learn module for the algorithm/model: Linear Regression\r\n",
        "from sklearn.linear_model import LogisticRegression\r\n",
        "# Import scikit_learn module to split the dataset into train.test sub-datasets\r\n",
        "from sklearn.model_selection import train_test_split \r\n",
        "# Import scikit_learn module for k-fold cross validation\r\n",
        "from sklearn.model_selection import KFold\r\n",
        "from sklearn.model_selection import cross_val_score\r\n",
        "# import the metrics class\r\n",
        "from sklearn import metrics\r\n",
        "# import stats for accuracy \r\n",
        "import statsmodels.api as sm\r\n"
      ],
      "execution_count": 1,
      "outputs": [
        {
          "output_type": "stream",
          "text": [
            "/usr/local/lib/python3.6/dist-packages/statsmodels/tools/_testing.py:19: FutureWarning: pandas.util.testing is deprecated. Use the functions in the public API at pandas.testing instead.\n",
            "  import pandas.util.testing as tm\n"
          ],
          "name": "stderr"
        }
      ]
    },
    {
      "cell_type": "code",
      "metadata": {
        "id": "iDtxY3H74dUb"
      },
      "source": [
        "#The next step is to load the dataset.\r\n",
        "#load the dataset provided\r\n",
        "salary_dataset = pd.read_csv('/content/adult.csv')\r\n"
      ],
      "execution_count": 2,
      "outputs": []
    },
    {
      "cell_type": "code",
      "metadata": {
        "colab": {
          "base_uri": "https://localhost:8080/"
        },
        "id": "Di_H5kMQ5N1M",
        "outputId": "f5e9e12d-6b1c-4810-8e96-db96ec40d6bd"
      },
      "source": [
        "#analyzing the data\r\n",
        "# salary dataset info to find columns and count of the data \r\n",
        "salary_dataset.info()\r\n"
      ],
      "execution_count": 3,
      "outputs": [
        {
          "output_type": "stream",
          "text": [
            "<class 'pandas.core.frame.DataFrame'>\n",
            "RangeIndex: 48842 entries, 0 to 48841\n",
            "Data columns (total 15 columns):\n",
            " #   Column           Non-Null Count  Dtype \n",
            "---  ------           --------------  ----- \n",
            " 0   age              48842 non-null  int64 \n",
            " 1   workclass        48842 non-null  object\n",
            " 2   fnlwgt           48842 non-null  int64 \n",
            " 3   education        48842 non-null  object\n",
            " 4   educational-num  48842 non-null  int64 \n",
            " 5   marital-status   48842 non-null  object\n",
            " 6   occupation       48842 non-null  object\n",
            " 7   relationship     48842 non-null  object\n",
            " 8   race             48842 non-null  object\n",
            " 9   gender           48842 non-null  object\n",
            " 10  capital-gain     48842 non-null  int64 \n",
            " 11  capital-loss     48842 non-null  int64 \n",
            " 12  hours-per-week   48842 non-null  int64 \n",
            " 13  native-country   48842 non-null  object\n",
            " 14  income           48842 non-null  object\n",
            "dtypes: int64(6), object(9)\n",
            "memory usage: 5.6+ MB\n"
          ],
          "name": "stdout"
        }
      ]
    },
    {
      "cell_type": "code",
      "metadata": {
        "colab": {
          "base_uri": "https://localhost:8080/"
        },
        "id": "wr6fNx_q5Yzy",
        "outputId": "e95bf6c3-0ca7-4eed-84a2-03573e5f24b7"
      },
      "source": [
        "#creating a Dataframe from the given dataset\r\n",
        "df = pd.DataFrame(salary_dataset)\r\n",
        "df.columns\r\n"
      ],
      "execution_count": 6,
      "outputs": [
        {
          "output_type": "execute_result",
          "data": {
            "text/plain": [
              "Index(['age', 'workclass', 'fnlwgt', 'education', 'educational-num',\n",
              "       'marital-status', 'occupation', 'relationship', 'race', 'gender',\n",
              "       'capital-gain', 'capital-loss', 'hours-per-week', 'native-country',\n",
              "       'income'],\n",
              "      dtype='object')"
            ]
          },
          "metadata": {
            "tags": []
          },
          "execution_count": 6
        }
      ]
    },
    {
      "cell_type": "code",
      "metadata": {
        "colab": {
          "base_uri": "https://localhost:8080/"
        },
        "id": "DhcVBPM55evK",
        "outputId": "d46852e4-7ca1-4eda-fa62-9c1173a45c11"
      },
      "source": [
        "#replacing some special character columns names with proper names \r\n",
        "df.rename(columns={'capital-gain': 'capital gain', 'capital-loss': 'capital loss', 'native-country': 'country','hours-per-week': 'hours per week','marital-status': 'marital'}, inplace=True)\r\n",
        "df.columns"
      ],
      "execution_count": 7,
      "outputs": [
        {
          "output_type": "execute_result",
          "data": {
            "text/plain": [
              "Index(['age', 'workclass', 'fnlwgt', 'education', 'educational-num', 'marital',\n",
              "       'occupation', 'relationship', 'race', 'gender', 'capital gain',\n",
              "       'capital loss', 'hours per week', 'country', 'income'],\n",
              "      dtype='object')"
            ]
          },
          "metadata": {
            "tags": []
          },
          "execution_count": 7
        }
      ]
    },
    {
      "cell_type": "markdown",
      "metadata": {
        "id": "uEV1K0QG6QDg"
      },
      "source": [
        "data cleaning"
      ]
    },
    {
      "cell_type": "code",
      "metadata": {
        "colab": {
          "base_uri": "https://localhost:8080/"
        },
        "id": "jr0UbEBr6Ey8",
        "outputId": "55fa14ee-4b9e-43d3-b68e-42fd38010699"
      },
      "source": [
        "#Finding the special characters in the data frame \r\n",
        "df.isin(['?']).sum(axis=0)\r\n",
        "#we see that there is a special character as \" ?\" for columns workcalss, Occupation, and country\r\n",
        "#we need to clean those data \r\n"
      ],
      "execution_count": 8,
      "outputs": [
        {
          "output_type": "execute_result",
          "data": {
            "text/plain": [
              "age                   0\n",
              "workclass          2799\n",
              "fnlwgt                0\n",
              "education             0\n",
              "educational-num       0\n",
              "marital               0\n",
              "occupation         2809\n",
              "relationship          0\n",
              "race                  0\n",
              "gender                0\n",
              "capital gain          0\n",
              "capital loss          0\n",
              "hours per week        0\n",
              "country             857\n",
              "income                0\n",
              "dtype: int64"
            ]
          },
          "metadata": {
            "tags": []
          },
          "execution_count": 8
        }
      ]
    },
    {
      "cell_type": "code",
      "metadata": {
        "colab": {
          "base_uri": "https://localhost:8080/"
        },
        "id": "W0iWHsF46Lmp",
        "outputId": "5cd3008a-e0b6-4d85-952c-ab370de0486e"
      },
      "source": [
        "#assinging the data set to a train data set to remove special characters\r\n",
        "#train_data=[salary_dataset]\r\n",
        "df.columns\r\n"
      ],
      "execution_count": 9,
      "outputs": [
        {
          "output_type": "execute_result",
          "data": {
            "text/plain": [
              "Index(['age', 'workclass', 'fnlwgt', 'education', 'educational-num', 'marital',\n",
              "       'occupation', 'relationship', 'race', 'gender', 'capital gain',\n",
              "       'capital loss', 'hours per week', 'country', 'income'],\n",
              "      dtype='object')"
            ]
          },
          "metadata": {
            "tags": []
          },
          "execution_count": 9
        }
      ]
    },
    {
      "cell_type": "code",
      "metadata": {
        "id": "XlMoyR5R6Ly5"
      },
      "source": [
        "# the code will replace the special character to nan and then drop the columns \r\n",
        "df['country'] = df['country'].replace('?',np.nan)\r\n",
        "df['workclass'] = df['workclass'].replace('?',np.nan)\r\n",
        "df['occupation'] = df['occupation'].replace('?',np.nan)\r\n"
      ],
      "execution_count": 11,
      "outputs": []
    },
    {
      "cell_type": "code",
      "metadata": {
        "id": "S2I3xCZb6mzY"
      },
      "source": [
        "#dropping the nan columns now \r\n",
        "df.dropna(how='any',inplace=True)"
      ],
      "execution_count": 12,
      "outputs": []
    },
    {
      "cell_type": "code",
      "metadata": {
        "colab": {
          "base_uri": "https://localhost:8080/"
        },
        "id": "8CdJmZiO6qsS",
        "outputId": "9a1a1889-676e-4c7d-b390-da94b11678c0"
      },
      "source": [
        "#Finding if special characters are present in the data \r\n",
        "df.isin(['?']).sum(axis=0)\r\n"
      ],
      "execution_count": 13,
      "outputs": [
        {
          "output_type": "execute_result",
          "data": {
            "text/plain": [
              "age                0\n",
              "workclass          0\n",
              "fnlwgt             0\n",
              "education          0\n",
              "educational-num    0\n",
              "marital            0\n",
              "occupation         0\n",
              "relationship       0\n",
              "race               0\n",
              "gender             0\n",
              "capital gain       0\n",
              "capital loss       0\n",
              "hours per week     0\n",
              "country            0\n",
              "income             0\n",
              "dtype: int64"
            ]
          },
          "metadata": {
            "tags": []
          },
          "execution_count": 13
        }
      ]
    },
    {
      "cell_type": "markdown",
      "metadata": {
        "id": "NPnyVtMf64yH"
      },
      "source": [
        "feature engineering"
      ]
    },
    {
      "cell_type": "code",
      "metadata": {
        "colab": {
          "base_uri": "https://localhost:8080/"
        },
        "id": "8rzs45hL6vjp",
        "outputId": "5df8ed5d-afc0-46c7-ea27-9128597f4a35"
      },
      "source": [
        "#running a loop for value_counts of each column to find out unique values. \r\n",
        "for c in df.columns:\r\n",
        "    print (\"---- %s ---\" % c)\r\n",
        "    print (df[c].value_counts())\r\n"
      ],
      "execution_count": 14,
      "outputs": [
        {
          "output_type": "stream",
          "text": [
            "---- age ---\n",
            "36    1283\n",
            "33    1279\n",
            "31    1274\n",
            "35    1272\n",
            "23    1241\n",
            "      ... \n",
            "85       5\n",
            "88       5\n",
            "86       1\n",
            "87       1\n",
            "89       1\n",
            "Name: age, Length: 74, dtype: int64\n",
            "---- workclass ---\n",
            "Private             33307\n",
            "Self-emp-not-inc     3796\n",
            "Local-gov            3100\n",
            "State-gov            1946\n",
            "Self-emp-inc         1646\n",
            "Federal-gov          1406\n",
            "Without-pay            21\n",
            "Name: workclass, dtype: int64\n",
            "---- fnlwgt ---\n",
            "203488    21\n",
            "125892    18\n",
            "120277    18\n",
            "113364    17\n",
            "126569    17\n",
            "          ..\n",
            "88440      1\n",
            "176517     1\n",
            "194956     1\n",
            "201105     1\n",
            "208174     1\n",
            "Name: fnlwgt, Length: 26741, dtype: int64\n",
            "---- education ---\n",
            "HS-grad         14783\n",
            "Some-college     9899\n",
            "Bachelors        7570\n",
            "Masters          2514\n",
            "Assoc-voc        1959\n",
            "11th             1619\n",
            "Assoc-acdm       1507\n",
            "10th             1223\n",
            "7th-8th           823\n",
            "Prof-school       785\n",
            "9th               676\n",
            "12th              577\n",
            "Doctorate         544\n",
            "5th-6th           449\n",
            "1st-4th           222\n",
            "Preschool          72\n",
            "Name: education, dtype: int64\n",
            "---- educational-num ---\n",
            "9     14783\n",
            "10     9899\n",
            "13     7570\n",
            "14     2514\n",
            "11     1959\n",
            "7      1619\n",
            "12     1507\n",
            "6      1223\n",
            "4       823\n",
            "15      785\n",
            "5       676\n",
            "8       577\n",
            "16      544\n",
            "3       449\n",
            "2       222\n",
            "1        72\n",
            "Name: educational-num, dtype: int64\n",
            "---- marital ---\n",
            "Married-civ-spouse       21055\n",
            "Never-married            14598\n",
            "Divorced                  6297\n",
            "Separated                 1411\n",
            "Widowed                   1277\n",
            "Married-spouse-absent      552\n",
            "Married-AF-spouse           32\n",
            "Name: marital, dtype: int64\n",
            "---- occupation ---\n",
            "Craft-repair         6020\n",
            "Prof-specialty       6008\n",
            "Exec-managerial      5984\n",
            "Adm-clerical         5540\n",
            "Sales                5408\n",
            "Other-service        4808\n",
            "Machine-op-inspct    2970\n",
            "Transport-moving     2316\n",
            "Handlers-cleaners    2046\n",
            "Farming-fishing      1480\n",
            "Tech-support         1420\n",
            "Protective-serv       976\n",
            "Priv-house-serv       232\n",
            "Armed-Forces           14\n",
            "Name: occupation, dtype: int64\n",
            "---- relationship ---\n",
            "Husband           18666\n",
            "Not-in-family     11702\n",
            "Own-child          6626\n",
            "Unmarried          4788\n",
            "Wife               2091\n",
            "Other-relative     1349\n",
            "Name: relationship, dtype: int64\n",
            "---- race ---\n",
            "White                 38903\n",
            "Black                  4228\n",
            "Asian-Pac-Islander     1303\n",
            "Amer-Indian-Eskimo      435\n",
            "Other                   353\n",
            "Name: race, dtype: int64\n",
            "---- gender ---\n",
            "Male      30527\n",
            "Female    14695\n",
            "Name: gender, dtype: int64\n",
            "---- capital gain ---\n",
            "0        41432\n",
            "15024      498\n",
            "7688       391\n",
            "7298       351\n",
            "99999      229\n",
            "         ...  \n",
            "1731         1\n",
            "22040        1\n",
            "7262         1\n",
            "1639         1\n",
            "2387         1\n",
            "Name: capital gain, Length: 121, dtype: int64\n",
            "---- capital loss ---\n",
            "0       43082\n",
            "1902      294\n",
            "1977      246\n",
            "1887      228\n",
            "2415       68\n",
            "        ...  \n",
            "2201        1\n",
            "1421        1\n",
            "4356        1\n",
            "2163        1\n",
            "1870        1\n",
            "Name: capital loss, Length: 97, dtype: int64\n",
            "---- hours per week ---\n",
            "40    21358\n",
            "50     4094\n",
            "45     2602\n",
            "60     2085\n",
            "35     1776\n",
            "      ...  \n",
            "69        1\n",
            "94        1\n",
            "79        1\n",
            "82        1\n",
            "87        1\n",
            "Name: hours per week, Length: 96, dtype: int64\n",
            "---- country ---\n",
            "United-States                 41292\n",
            "Mexico                          903\n",
            "Philippines                     283\n",
            "Germany                         193\n",
            "Puerto-Rico                     175\n",
            "Canada                          163\n",
            "India                           147\n",
            "El-Salvador                     147\n",
            "Cuba                            133\n",
            "England                         119\n",
            "China                           113\n",
            "Jamaica                         103\n",
            "South                           101\n",
            "Italy                           100\n",
            "Dominican-Republic               97\n",
            "Japan                            89\n",
            "Guatemala                        86\n",
            "Vietnam                          83\n",
            "Columbia                         82\n",
            "Poland                           81\n",
            "Haiti                            69\n",
            "Portugal                         62\n",
            "Iran                             56\n",
            "Taiwan                           55\n",
            "Greece                           49\n",
            "Nicaragua                        48\n",
            "Peru                             45\n",
            "Ecuador                          43\n",
            "France                           36\n",
            "Ireland                          36\n",
            "Thailand                         29\n",
            "Hong                             28\n",
            "Cambodia                         26\n",
            "Trinadad&Tobago                  26\n",
            "Yugoslavia                       23\n",
            "Outlying-US(Guam-USVI-etc)       22\n",
            "Laos                             21\n",
            "Scotland                         20\n",
            "Honduras                         19\n",
            "Hungary                          18\n",
            "Holand-Netherlands                1\n",
            "Name: country, dtype: int64\n",
            "---- income ---\n",
            "<=50K    34014\n",
            ">50K     11208\n",
            "Name: income, dtype: int64\n"
          ],
          "name": "stdout"
        }
      ]
    },
    {
      "cell_type": "code",
      "metadata": {
        "colab": {
          "base_uri": "https://localhost:8080/"
        },
        "id": "2Wwcsquy68Sx",
        "outputId": "8c0cff34-50b7-4977-c75a-bb6a30482160"
      },
      "source": [
        "#checking the Special characters still exists \r\n",
        "df.workclass.value_counts()"
      ],
      "execution_count": 15,
      "outputs": [
        {
          "output_type": "execute_result",
          "data": {
            "text/plain": [
              "Private             33307\n",
              "Self-emp-not-inc     3796\n",
              "Local-gov            3100\n",
              "State-gov            1946\n",
              "Self-emp-inc         1646\n",
              "Federal-gov          1406\n",
              "Without-pay            21\n",
              "Name: workclass, dtype: int64"
            ]
          },
          "metadata": {
            "tags": []
          },
          "execution_count": 15
        }
      ]
    },
    {
      "cell_type": "code",
      "metadata": {
        "colab": {
          "base_uri": "https://localhost:8080/"
        },
        "id": "NLvnB1jM7SEI",
        "outputId": "fadf37c7-0089-4d61-b976-7e364cf9b230"
      },
      "source": [
        "#checking the Special characters still exists \r\n",
        "df.occupation.value_counts()\r\n"
      ],
      "execution_count": 16,
      "outputs": [
        {
          "output_type": "execute_result",
          "data": {
            "text/plain": [
              "Craft-repair         6020\n",
              "Prof-specialty       6008\n",
              "Exec-managerial      5984\n",
              "Adm-clerical         5540\n",
              "Sales                5408\n",
              "Other-service        4808\n",
              "Machine-op-inspct    2970\n",
              "Transport-moving     2316\n",
              "Handlers-cleaners    2046\n",
              "Farming-fishing      1480\n",
              "Tech-support         1420\n",
              "Protective-serv       976\n",
              "Priv-house-serv       232\n",
              "Armed-Forces           14\n",
              "Name: occupation, dtype: int64"
            ]
          },
          "metadata": {
            "tags": []
          },
          "execution_count": 16
        }
      ]
    },
    {
      "cell_type": "code",
      "metadata": {
        "colab": {
          "base_uri": "https://localhost:8080/"
        },
        "id": "wK94xTpp7kOv",
        "outputId": "c678968d-d466-4c72-8994-a4697bf3c66a"
      },
      "source": [
        "#checking the Special characters still exists \r\n",
        "df.country.value_counts()\r\n"
      ],
      "execution_count": 17,
      "outputs": [
        {
          "output_type": "execute_result",
          "data": {
            "text/plain": [
              "United-States                 41292\n",
              "Mexico                          903\n",
              "Philippines                     283\n",
              "Germany                         193\n",
              "Puerto-Rico                     175\n",
              "Canada                          163\n",
              "India                           147\n",
              "El-Salvador                     147\n",
              "Cuba                            133\n",
              "England                         119\n",
              "China                           113\n",
              "Jamaica                         103\n",
              "South                           101\n",
              "Italy                           100\n",
              "Dominican-Republic               97\n",
              "Japan                            89\n",
              "Guatemala                        86\n",
              "Vietnam                          83\n",
              "Columbia                         82\n",
              "Poland                           81\n",
              "Haiti                            69\n",
              "Portugal                         62\n",
              "Iran                             56\n",
              "Taiwan                           55\n",
              "Greece                           49\n",
              "Nicaragua                        48\n",
              "Peru                             45\n",
              "Ecuador                          43\n",
              "France                           36\n",
              "Ireland                          36\n",
              "Thailand                         29\n",
              "Hong                             28\n",
              "Cambodia                         26\n",
              "Trinadad&Tobago                  26\n",
              "Yugoslavia                       23\n",
              "Outlying-US(Guam-USVI-etc)       22\n",
              "Laos                             21\n",
              "Scotland                         20\n",
              "Honduras                         19\n",
              "Hungary                          18\n",
              "Holand-Netherlands                1\n",
              "Name: country, dtype: int64"
            ]
          },
          "metadata": {
            "tags": []
          },
          "execution_count": 17
        }
      ]
    },
    {
      "cell_type": "code",
      "metadata": {
        "id": "iWUAbM3t7pOH"
      },
      "source": [
        "#dropping un-used data from the dataset \r\n",
        "df.drop(['educational-num','age', 'hours per week', 'fnlwgt', 'capital gain','capital loss', 'country'], axis=1, inplace=True)"
      ],
      "execution_count": 18,
      "outputs": []
    },
    {
      "cell_type": "code",
      "metadata": {
        "colab": {
          "base_uri": "https://localhost:8080/"
        },
        "id": "POkfbh307vM_",
        "outputId": "6416dbef-38a3-4710-bd1b-94de7b61012a"
      },
      "source": [
        "# Let's see how many unique categories we have in this property\r\n",
        "income = set(df['income'])\r\n",
        "print(income)\r\n"
      ],
      "execution_count": 19,
      "outputs": [
        {
          "output_type": "stream",
          "text": [
            "{'<=50K', '>50K'}\n"
          ],
          "name": "stdout"
        }
      ]
    },
    {
      "cell_type": "code",
      "metadata": {
        "id": "otghPu0Z7w1_"
      },
      "source": [
        "#mapping the data into numerical data using map function\r\n",
        "df['income'] = df['income'].map({'<=50K': 0, '>50K': 1}).astype(int)\r\n"
      ],
      "execution_count": 20,
      "outputs": []
    },
    {
      "cell_type": "code",
      "metadata": {
        "colab": {
          "base_uri": "https://localhost:8080/",
          "height": 204
        },
        "id": "7ZR6tR8l70g_",
        "outputId": "3249eddf-8127-497a-edb5-f48d1ab0812b"
      },
      "source": [
        "#check the data is replaced \r\n",
        "df.head()\r\n"
      ],
      "execution_count": 21,
      "outputs": [
        {
          "output_type": "execute_result",
          "data": {
            "text/html": [
              "<div>\n",
              "<style scoped>\n",
              "    .dataframe tbody tr th:only-of-type {\n",
              "        vertical-align: middle;\n",
              "    }\n",
              "\n",
              "    .dataframe tbody tr th {\n",
              "        vertical-align: top;\n",
              "    }\n",
              "\n",
              "    .dataframe thead th {\n",
              "        text-align: right;\n",
              "    }\n",
              "</style>\n",
              "<table border=\"1\" class=\"dataframe\">\n",
              "  <thead>\n",
              "    <tr style=\"text-align: right;\">\n",
              "      <th></th>\n",
              "      <th>workclass</th>\n",
              "      <th>education</th>\n",
              "      <th>marital</th>\n",
              "      <th>occupation</th>\n",
              "      <th>relationship</th>\n",
              "      <th>race</th>\n",
              "      <th>gender</th>\n",
              "      <th>income</th>\n",
              "    </tr>\n",
              "  </thead>\n",
              "  <tbody>\n",
              "    <tr>\n",
              "      <th>0</th>\n",
              "      <td>Private</td>\n",
              "      <td>11th</td>\n",
              "      <td>Never-married</td>\n",
              "      <td>Machine-op-inspct</td>\n",
              "      <td>Own-child</td>\n",
              "      <td>Black</td>\n",
              "      <td>Male</td>\n",
              "      <td>0</td>\n",
              "    </tr>\n",
              "    <tr>\n",
              "      <th>1</th>\n",
              "      <td>Private</td>\n",
              "      <td>HS-grad</td>\n",
              "      <td>Married-civ-spouse</td>\n",
              "      <td>Farming-fishing</td>\n",
              "      <td>Husband</td>\n",
              "      <td>White</td>\n",
              "      <td>Male</td>\n",
              "      <td>0</td>\n",
              "    </tr>\n",
              "    <tr>\n",
              "      <th>2</th>\n",
              "      <td>Local-gov</td>\n",
              "      <td>Assoc-acdm</td>\n",
              "      <td>Married-civ-spouse</td>\n",
              "      <td>Protective-serv</td>\n",
              "      <td>Husband</td>\n",
              "      <td>White</td>\n",
              "      <td>Male</td>\n",
              "      <td>1</td>\n",
              "    </tr>\n",
              "    <tr>\n",
              "      <th>3</th>\n",
              "      <td>Private</td>\n",
              "      <td>Some-college</td>\n",
              "      <td>Married-civ-spouse</td>\n",
              "      <td>Machine-op-inspct</td>\n",
              "      <td>Husband</td>\n",
              "      <td>Black</td>\n",
              "      <td>Male</td>\n",
              "      <td>1</td>\n",
              "    </tr>\n",
              "    <tr>\n",
              "      <th>5</th>\n",
              "      <td>Private</td>\n",
              "      <td>10th</td>\n",
              "      <td>Never-married</td>\n",
              "      <td>Other-service</td>\n",
              "      <td>Not-in-family</td>\n",
              "      <td>White</td>\n",
              "      <td>Male</td>\n",
              "      <td>0</td>\n",
              "    </tr>\n",
              "  </tbody>\n",
              "</table>\n",
              "</div>"
            ],
            "text/plain": [
              "   workclass     education             marital  ...   race gender income\n",
              "0    Private          11th       Never-married  ...  Black   Male      0\n",
              "1    Private       HS-grad  Married-civ-spouse  ...  White   Male      0\n",
              "2  Local-gov    Assoc-acdm  Married-civ-spouse  ...  White   Male      1\n",
              "3    Private  Some-college  Married-civ-spouse  ...  Black   Male      1\n",
              "5    Private          10th       Never-married  ...  White   Male      0\n",
              "\n",
              "[5 rows x 8 columns]"
            ]
          },
          "metadata": {
            "tags": []
          },
          "execution_count": 21
        }
      ]
    },
    {
      "cell_type": "code",
      "metadata": {
        "colab": {
          "base_uri": "https://localhost:8080/"
        },
        "id": "9LL-2SrC76FY",
        "outputId": "938841dd-4d3d-4c69-903c-ef2fab8ae294"
      },
      "source": [
        "# Let's see how many unique categories we have in this gender property\r\n",
        "gender = set(df['gender'])\r\n",
        "print(gender)"
      ],
      "execution_count": 22,
      "outputs": [
        {
          "output_type": "stream",
          "text": [
            "{'Male', 'Female'}\n"
          ],
          "name": "stdout"
        }
      ]
    },
    {
      "cell_type": "code",
      "metadata": {
        "id": "I8u6wbD_7_Yh"
      },
      "source": [
        "#Mapping the values to numerical values \r\n",
        "df['gender'] = df['gender'].map({'Male': 0, 'Female': 1}).astype(int)"
      ],
      "execution_count": 23,
      "outputs": []
    },
    {
      "cell_type": "code",
      "metadata": {
        "colab": {
          "base_uri": "https://localhost:8080/"
        },
        "id": "oKrPdGni8D3w",
        "outputId": "66419159-9e7e-4884-fca0-d8dbe20155af"
      },
      "source": [
        "# How many unique races we got here?\r\n",
        "race = set(df['race'])\r\n",
        "print(race)\r\n"
      ],
      "execution_count": 24,
      "outputs": [
        {
          "output_type": "stream",
          "text": [
            "{'Other', 'White', 'Amer-Indian-Eskimo', 'Asian-Pac-Islander', 'Black'}\n"
          ],
          "name": "stdout"
        }
      ]
    },
    {
      "cell_type": "code",
      "metadata": {
        "id": "LQZ5cbg48HXw"
      },
      "source": [
        "#Mapping the values to numerical values \r\n",
        "df['race'] = df['race'].map({'Black': 0, 'Asian-Pac-Islander': 1, 'Other': 2, 'White': 3, \r\n",
        "                                             'Amer-Indian-Eskimo': 4}).astype(int)"
      ],
      "execution_count": 25,
      "outputs": []
    },
    {
      "cell_type": "code",
      "metadata": {
        "colab": {
          "base_uri": "https://localhost:8080/"
        },
        "id": "v-g3d4nQ8OuJ",
        "outputId": "bff1225e-6753-4aa1-cc46-c11d65e5843d"
      },
      "source": [
        "# How many unique races we got here?\r\n",
        "Marital = set(df['marital'])\r\n",
        "print(Marital)\r\n"
      ],
      "execution_count": 26,
      "outputs": [
        {
          "output_type": "stream",
          "text": [
            "{'Married-spouse-absent', 'Divorced', 'Widowed', 'Separated', 'Never-married', 'Married-AF-spouse', 'Married-civ-spouse'}\n"
          ],
          "name": "stdout"
        }
      ]
    },
    {
      "cell_type": "code",
      "metadata": {
        "id": "mAAQsgxP8Ru3"
      },
      "source": [
        "#Mapping the values to numerical values \r\n",
        "df['marital'] = df['marital'].map({'Married-spouse-absent': 0, 'Widowed': 1, \r\n",
        "                                                             'Married-civ-spouse': 2, 'Separated': 3, 'Divorced': 4, \r\n",
        "                                                             'Never-married': 5, 'Married-AF-spouse': 6}).astype(int)\r\n"
      ],
      "execution_count": 27,
      "outputs": []
    },
    {
      "cell_type": "code",
      "metadata": {
        "colab": {
          "base_uri": "https://localhost:8080/"
        },
        "id": "MgmCd5zg8VyH",
        "outputId": "9ea7c1f9-9eda-44d2-fabb-2c63abc4277c"
      },
      "source": [
        "# How many unique Workclass we got here?\r\n",
        "emp = set(df['workclass'])\r\n",
        "print(emp)"
      ],
      "execution_count": 28,
      "outputs": [
        {
          "output_type": "stream",
          "text": [
            "{'Self-emp-not-inc', 'State-gov', 'Local-gov', 'Private', 'Federal-gov', 'Self-emp-inc', 'Without-pay'}\n"
          ],
          "name": "stdout"
        }
      ]
    },
    {
      "cell_type": "code",
      "metadata": {
        "id": "edtwYFLO8Y2g"
      },
      "source": [
        "#Mapping the values to numerical values\r\n",
        "df['workclass'] = df['workclass'].map({'Self-emp-inc': 0, 'State-gov': 1, \r\n",
        "                                                             'Federal-gov': 2, 'Without-pay': 3, 'Local-gov': 4, \r\n",
        "                                                             'Private': 5, 'Self-emp-not-inc': 6}).astype(int)\r\n"
      ],
      "execution_count": 29,
      "outputs": []
    },
    {
      "cell_type": "code",
      "metadata": {
        "colab": {
          "base_uri": "https://localhost:8080/"
        },
        "id": "432APoB18iDz",
        "outputId": "7f3b2c38-8efa-438f-cb64-fbf7a504eba2"
      },
      "source": [
        "# How many unique Education we got here?\r\n",
        "ed = set(df['education'])\r\n",
        "print(ed)\r\n"
      ],
      "execution_count": 30,
      "outputs": [
        {
          "output_type": "stream",
          "text": [
            "{'1st-4th', '5th-6th', '11th', 'Assoc-acdm', 'Doctorate', 'Prof-school', 'Preschool', 'HS-grad', 'Bachelors', 'Masters', '12th', '9th', '10th', '7th-8th', 'Some-college', 'Assoc-voc'}\n"
          ],
          "name": "stdout"
        }
      ]
    },
    {
      "cell_type": "code",
      "metadata": {
        "id": "wAXWfqzZ8jYP"
      },
      "source": [
        "#Mapping the values to numerical values\r\n",
        "df['education'] = df['education'].map({'Some-college': 0, 'Preschool': 1, \r\n",
        "                                                        '5th-6th': 2, 'HS-grad': 3, 'Masters': 4, \r\n",
        "                                                        '12th': 5, '7th-8th': 6, 'Prof-school': 7,\r\n",
        "                                                        '1st-4th': 8, 'Assoc-acdm': 9,\r\n",
        "                                                        'Doctorate': 10, '11th': 11,\r\n",
        "                                                        'Bachelors': 12, '10th': 13,\r\n",
        "                                                        'Assoc-voc': 14,\r\n",
        "                                                        '9th': 15}).astype(int)"
      ],
      "execution_count": 31,
      "outputs": []
    },
    {
      "cell_type": "code",
      "metadata": {
        "colab": {
          "base_uri": "https://localhost:8080/"
        },
        "id": "Yu_BPctF8mjX",
        "outputId": "52ec7ec9-045d-42ad-daa5-616022752913"
      },
      "source": [
        "# Let's see how many unique categories we have in this Occupation property after cleaning it \r\n",
        "occupation = set(df['occupation'])\r\n",
        "print(occupation)"
      ],
      "execution_count": 32,
      "outputs": [
        {
          "output_type": "stream",
          "text": [
            "{'Armed-Forces', 'Priv-house-serv', 'Transport-moving', 'Craft-repair', 'Prof-specialty', 'Handlers-cleaners', 'Farming-fishing', 'Protective-serv', 'Exec-managerial', 'Tech-support', 'Machine-op-inspct', 'Other-service', 'Sales', 'Adm-clerical'}\n"
          ],
          "name": "stdout"
        }
      ]
    },
    {
      "cell_type": "code",
      "metadata": {
        "id": "cVNt1NsF8ruY"
      },
      "source": [
        "# Now we classify them as numbers instead of their names.\r\n",
        "df['occupation'] = df['occupation'].map({ 'Farming-fishing': 1, 'Tech-support': 2, \r\n",
        "                                          'Adm-clerical': 3, 'Handlers-cleaners': 4, \r\n",
        "                                         'Prof-specialty': 5,'Machine-op-inspct': 6, \r\n",
        "                                         'Exec-managerial': 7, \r\n",
        "                                         'Priv-house-serv': 8,\r\n",
        "                                         'Craft-repair': 9, \r\n",
        "                                         'Sales': 10, \r\n",
        "                                         'Transport-moving': 11, \r\n",
        "                                         'Armed-Forces': 12, \r\n",
        "                                         'Other-service': 13,  \r\n",
        "                                         'Protective-serv': 14}).astype(int)\r\n"
      ],
      "execution_count": 33,
      "outputs": []
    },
    {
      "cell_type": "code",
      "metadata": {
        "colab": {
          "base_uri": "https://localhost:8080/"
        },
        "id": "2HI8u8LI8u5L",
        "outputId": "b7f08354-cc72-4a8e-f1e5-7fef50c5ca82"
      },
      "source": [
        "# How many unique Relationship we got here?\r\n",
        "relationship = set(df['relationship'])\r\n",
        "print(relationship)"
      ],
      "execution_count": 34,
      "outputs": [
        {
          "output_type": "stream",
          "text": [
            "{'Not-in-family', 'Own-child', 'Unmarried', 'Other-relative', 'Wife', 'Husband'}\n"
          ],
          "name": "stdout"
        }
      ]
    },
    {
      "cell_type": "code",
      "metadata": {
        "id": "s5F96Dq-8yuX"
      },
      "source": [
        "#Mapping the values to numerical values\r\n",
        "df['relationship'] = df['relationship'].map({'Not-in-family': 0, 'Wife': 1, \r\n",
        "                                                             'Other-relative': 2, \r\n",
        "                                                             'Unmarried': 3, \r\n",
        "                                                             'Husband': 4, \r\n",
        "                                                             'Own-child': 5}).astype(int)\r\n"
      ],
      "execution_count": 35,
      "outputs": []
    },
    {
      "cell_type": "code",
      "metadata": {
        "colab": {
          "base_uri": "https://localhost:8080/",
          "height": 359
        },
        "id": "MDX-ZWdj82TR",
        "outputId": "98392bc3-a0d3-406e-aa12-bf9ba776b68d"
      },
      "source": [
        "#displaying the cleaned data to see if the map as worked\r\n",
        "df.head(10)\r\n",
        "#Now below we see all the data is numerical data that is proper for our data feature analysis "
      ],
      "execution_count": 36,
      "outputs": [
        {
          "output_type": "execute_result",
          "data": {
            "text/html": [
              "<div>\n",
              "<style scoped>\n",
              "    .dataframe tbody tr th:only-of-type {\n",
              "        vertical-align: middle;\n",
              "    }\n",
              "\n",
              "    .dataframe tbody tr th {\n",
              "        vertical-align: top;\n",
              "    }\n",
              "\n",
              "    .dataframe thead th {\n",
              "        text-align: right;\n",
              "    }\n",
              "</style>\n",
              "<table border=\"1\" class=\"dataframe\">\n",
              "  <thead>\n",
              "    <tr style=\"text-align: right;\">\n",
              "      <th></th>\n",
              "      <th>workclass</th>\n",
              "      <th>education</th>\n",
              "      <th>marital</th>\n",
              "      <th>occupation</th>\n",
              "      <th>relationship</th>\n",
              "      <th>race</th>\n",
              "      <th>gender</th>\n",
              "      <th>income</th>\n",
              "    </tr>\n",
              "  </thead>\n",
              "  <tbody>\n",
              "    <tr>\n",
              "      <th>0</th>\n",
              "      <td>5</td>\n",
              "      <td>11</td>\n",
              "      <td>5</td>\n",
              "      <td>6</td>\n",
              "      <td>5</td>\n",
              "      <td>0</td>\n",
              "      <td>0</td>\n",
              "      <td>0</td>\n",
              "    </tr>\n",
              "    <tr>\n",
              "      <th>1</th>\n",
              "      <td>5</td>\n",
              "      <td>3</td>\n",
              "      <td>2</td>\n",
              "      <td>1</td>\n",
              "      <td>4</td>\n",
              "      <td>3</td>\n",
              "      <td>0</td>\n",
              "      <td>0</td>\n",
              "    </tr>\n",
              "    <tr>\n",
              "      <th>2</th>\n",
              "      <td>4</td>\n",
              "      <td>9</td>\n",
              "      <td>2</td>\n",
              "      <td>14</td>\n",
              "      <td>4</td>\n",
              "      <td>3</td>\n",
              "      <td>0</td>\n",
              "      <td>1</td>\n",
              "    </tr>\n",
              "    <tr>\n",
              "      <th>3</th>\n",
              "      <td>5</td>\n",
              "      <td>0</td>\n",
              "      <td>2</td>\n",
              "      <td>6</td>\n",
              "      <td>4</td>\n",
              "      <td>0</td>\n",
              "      <td>0</td>\n",
              "      <td>1</td>\n",
              "    </tr>\n",
              "    <tr>\n",
              "      <th>5</th>\n",
              "      <td>5</td>\n",
              "      <td>13</td>\n",
              "      <td>5</td>\n",
              "      <td>13</td>\n",
              "      <td>0</td>\n",
              "      <td>3</td>\n",
              "      <td>0</td>\n",
              "      <td>0</td>\n",
              "    </tr>\n",
              "    <tr>\n",
              "      <th>7</th>\n",
              "      <td>6</td>\n",
              "      <td>7</td>\n",
              "      <td>2</td>\n",
              "      <td>5</td>\n",
              "      <td>4</td>\n",
              "      <td>3</td>\n",
              "      <td>0</td>\n",
              "      <td>1</td>\n",
              "    </tr>\n",
              "    <tr>\n",
              "      <th>8</th>\n",
              "      <td>5</td>\n",
              "      <td>0</td>\n",
              "      <td>5</td>\n",
              "      <td>13</td>\n",
              "      <td>3</td>\n",
              "      <td>3</td>\n",
              "      <td>1</td>\n",
              "      <td>0</td>\n",
              "    </tr>\n",
              "    <tr>\n",
              "      <th>9</th>\n",
              "      <td>5</td>\n",
              "      <td>6</td>\n",
              "      <td>2</td>\n",
              "      <td>9</td>\n",
              "      <td>4</td>\n",
              "      <td>3</td>\n",
              "      <td>0</td>\n",
              "      <td>0</td>\n",
              "    </tr>\n",
              "    <tr>\n",
              "      <th>10</th>\n",
              "      <td>5</td>\n",
              "      <td>3</td>\n",
              "      <td>2</td>\n",
              "      <td>6</td>\n",
              "      <td>4</td>\n",
              "      <td>3</td>\n",
              "      <td>0</td>\n",
              "      <td>1</td>\n",
              "    </tr>\n",
              "    <tr>\n",
              "      <th>11</th>\n",
              "      <td>2</td>\n",
              "      <td>12</td>\n",
              "      <td>2</td>\n",
              "      <td>3</td>\n",
              "      <td>4</td>\n",
              "      <td>3</td>\n",
              "      <td>0</td>\n",
              "      <td>0</td>\n",
              "    </tr>\n",
              "  </tbody>\n",
              "</table>\n",
              "</div>"
            ],
            "text/plain": [
              "    workclass  education  marital  ...  race  gender  income\n",
              "0           5         11        5  ...     0       0       0\n",
              "1           5          3        2  ...     3       0       0\n",
              "2           4          9        2  ...     3       0       1\n",
              "3           5          0        2  ...     0       0       1\n",
              "5           5         13        5  ...     3       0       0\n",
              "7           6          7        2  ...     3       0       1\n",
              "8           5          0        5  ...     3       1       0\n",
              "9           5          6        2  ...     3       0       0\n",
              "10          5          3        2  ...     3       0       1\n",
              "11          2         12        2  ...     3       0       0\n",
              "\n",
              "[10 rows x 8 columns]"
            ]
          },
          "metadata": {
            "tags": []
          },
          "execution_count": 36
        }
      ]
    },
    {
      "cell_type": "code",
      "metadata": {
        "colab": {
          "base_uri": "https://localhost:8080/",
          "height": 299
        },
        "id": "uvsTwbsh8533",
        "outputId": "c3d5a5b0-5e40-4c16-e10c-f99252876f9e"
      },
      "source": [
        "#plotting a bar graph for Education against Income to see the co-relation between these columns \r\n",
        "df.groupby('education').income.mean().plot(kind='bar')\r\n"
      ],
      "execution_count": 37,
      "outputs": [
        {
          "output_type": "execute_result",
          "data": {
            "text/plain": [
              "<matplotlib.axes._subplots.AxesSubplot at 0x7f31411e99e8>"
            ]
          },
          "metadata": {
            "tags": []
          },
          "execution_count": 37
        },
        {
          "output_type": "display_data",
          "data": {
            "image/png": "[encoded data removed]",
            "text/plain": [
              "<Figure size 432x288 with 1 Axes>"
            ]
          },
          "metadata": {
            "tags": [],
            "needs_background": "light"
          }
        }
      ]
    },
    {
      "cell_type": "code",
      "metadata": {
        "colab": {
          "base_uri": "https://localhost:8080/",
          "height": 302
        },
        "id": "7Yb-msI38_gk",
        "outputId": "224526e9-437f-40a8-d805-c28b9fb67f7e"
      },
      "source": [
        "#plotting a bar graph for Occupation against Income to see the co-relation between these columns \r\n",
        "df.groupby('occupation').income.mean().plot(kind='bar')"
      ],
      "execution_count": 38,
      "outputs": [
        {
          "output_type": "execute_result",
          "data": {
            "text/plain": [
              "<matplotlib.axes._subplots.AxesSubplot at 0x7f31410f5908>"
            ]
          },
          "metadata": {
            "tags": []
          },
          "execution_count": 38
        },
        {
          "output_type": "display_data",
          "data": {
            "image/png": "[encoded data removed]",
            "text/plain": [
              "<Figure size 432x288 with 1 Axes>"
            ]
          },
          "metadata": {
            "tags": [],
            "needs_background": "light"
          }
        }
      ]
    },
    {
      "cell_type": "code",
      "metadata": {
        "colab": {
          "base_uri": "https://localhost:8080/",
          "height": 293
        },
        "id": "PQVxl0nM9EEg",
        "outputId": "1a18c069-2cc2-4f7e-8efb-15793d547b5c"
      },
      "source": [
        "#plotting a bar graph for Relationship against Income to see the co-relation between these columns \r\n",
        "df.groupby('relationship').income.mean().plot(kind='bar')"
      ],
      "execution_count": 39,
      "outputs": [
        {
          "output_type": "execute_result",
          "data": {
            "text/plain": [
              "<matplotlib.axes._subplots.AxesSubplot at 0x7f3140bc7860>"
            ]
          },
          "metadata": {
            "tags": []
          },
          "execution_count": 39
        },
        {
          "output_type": "display_data",
          "data": {
            "image/png": "[encoded data removed]",
            "text/plain": [
              "<Figure size 432x288 with 1 Axes>"
            ]
          },
          "metadata": {
            "tags": [],
            "needs_background": "light"
          }
        }
      ]
    },
    {
      "cell_type": "code",
      "metadata": {
        "colab": {
          "base_uri": "https://localhost:8080/",
          "height": 293
        },
        "id": "rcLlvuNm9Hs_",
        "outputId": "67f32ac4-91ac-4afc-95c5-a04cda3c2656"
      },
      "source": [
        "#plotting a bar graph for Race against Income to see the co-relation between these columns \r\n",
        "df.groupby('race').income.mean().plot(kind='bar')"
      ],
      "execution_count": 40,
      "outputs": [
        {
          "output_type": "execute_result",
          "data": {
            "text/plain": [
              "<matplotlib.axes._subplots.AxesSubplot at 0x7f3140b7e6d8>"
            ]
          },
          "metadata": {
            "tags": []
          },
          "execution_count": 40
        },
        {
          "output_type": "display_data",
          "data": {
            "image/png": "[encoded data removed]",
            "text/plain": [
              "<Figure size 432x288 with 1 Axes>"
            ]
          },
          "metadata": {
            "tags": [],
            "needs_background": "light"
          }
        }
      ]
    },
    {
      "cell_type": "code",
      "metadata": {
        "colab": {
          "base_uri": "https://localhost:8080/",
          "height": 293
        },
        "id": "PAd4Be5s9LqC",
        "outputId": "9ed60c16-f8ff-446e-8d86-75719d9fad46"
      },
      "source": [
        "#plotting a bar graph for Race against Income to see the co-relation between these columns \r\n",
        "df.groupby('gender').income.mean().plot(kind='bar')\r\n"
      ],
      "execution_count": 41,
      "outputs": [
        {
          "output_type": "execute_result",
          "data": {
            "text/plain": [
              "<matplotlib.axes._subplots.AxesSubplot at 0x7f31410fc320>"
            ]
          },
          "metadata": {
            "tags": []
          },
          "execution_count": 41
        },
        {
          "output_type": "display_data",
          "data": {
            "image/png": "[encoded data removed]",
            "text/plain": [
              "<Figure size 432x288 with 1 Axes>"
            ]
          },
          "metadata": {
            "tags": [],
            "needs_background": "light"
          }
        }
      ]
    },
    {
      "cell_type": "code",
      "metadata": {
        "colab": {
          "base_uri": "https://localhost:8080/",
          "height": 293
        },
        "id": "6ZxX0O-_9P23",
        "outputId": "537d1129-c0d2-409a-a161-5681553197af"
      },
      "source": [
        "#plotting a bar graph for Race against Income to see the co-relation between these columns \r\n",
        "df.groupby('workclass').income.mean().plot(kind='bar')\r\n"
      ],
      "execution_count": 42,
      "outputs": [
        {
          "output_type": "execute_result",
          "data": {
            "text/plain": [
              "<matplotlib.axes._subplots.AxesSubplot at 0x7f3140aea080>"
            ]
          },
          "metadata": {
            "tags": []
          },
          "execution_count": 42
        },
        {
          "output_type": "display_data",
          "data": {
            "image/png": "[encoded data removed]",
            "text/plain": [
              "<Figure size 432x288 with 1 Axes>"
            ]
          },
          "metadata": {
            "tags": [],
            "needs_background": "light"
          }
        }
      ]
    },
    {
      "cell_type": "code",
      "metadata": {
        "colab": {
          "base_uri": "https://localhost:8080/",
          "height": 293
        },
        "id": "UxsyIhmY9TWm",
        "outputId": "8da83f3b-fe9f-4111-bb3c-852e424c8e81"
      },
      "source": [
        "#plotting a bar graph for Race against Income to see the co-relation between these columns \r\n",
        "df.groupby('marital').income.mean().plot(kind='bar')\r\n"
      ],
      "execution_count": 43,
      "outputs": [
        {
          "output_type": "execute_result",
          "data": {
            "text/plain": [
              "<matplotlib.axes._subplots.AxesSubplot at 0x7f3140a63828>"
            ]
          },
          "metadata": {
            "tags": []
          },
          "execution_count": 43
        },
        {
          "output_type": "display_data",
          "data": {
            "image/png": "[encoded data removed]",
            "text/plain": [
              "<Figure size 432x288 with 1 Axes>"
            ]
          },
          "metadata": {
            "tags": [],
            "needs_background": "light"
          }
        }
      ]
    },
    {
      "cell_type": "code",
      "metadata": {
        "colab": {
          "base_uri": "https://localhost:8080/",
          "height": 543
        },
        "id": "U_b3Djah9W6Y",
        "outputId": "594964cd-53ad-44ae-89d2-e6b347509a9e"
      },
      "source": [
        "# use the heatmap function from seaborn to plot the correlation matrix\r\n",
        "# annot = True to print the values inside the square\r\n",
        "corrmat = df.corr()\r\n",
        "f, ax = pplt.subplots(figsize=(12, 9))\r\n",
        "k = 8 #number of variables for heatmap\r\n",
        "cols = corrmat.nlargest(k, 'income')['income'].index\r\n",
        "cm = np.corrcoef(df[cols].values.T)\r\n",
        "sns.set(font_scale=1.25)\r\n",
        "hm = sns.heatmap(cm, cbar=True, annot=True, square=True, fmt='.2f', annot_kws={'size': 10}, yticklabels=cols.values, xticklabels=cols.values)\r\n",
        "pplt.show()\r\n",
        "\r\n",
        "#below we see that there is relation between Relationship, Education, Race, Occupation and Income which is our target \r\n",
        "#columns to predict so, doing more feature analysis on these columns "
      ],
      "execution_count": 44,
      "outputs": [
        {
          "output_type": "display_data",
          "data": {
            "image/png": "[encoded data removed]",
            "text/plain": [
              "<Figure size 864x648 with 2 Axes>"
            ]
          },
          "metadata": {
            "tags": [],
            "needs_background": "light"
          }
        }
      ]
    },
    {
      "cell_type": "code",
      "metadata": {
        "colab": {
          "base_uri": "https://localhost:8080/",
          "height": 562
        },
        "id": "Y7WEQKeo9bw9",
        "outputId": "52175e60-f00b-4b51-ec4b-e9d1c6b62e0e"
      },
      "source": [
        "# Plot histogram for each numeric variable/attribute of the dataset\r\n",
        "\r\n",
        "df.hist(figsize=(12,9))\r\n",
        "pplt.show()\r\n"
      ],
      "execution_count": 45,
      "outputs": [
        {
          "output_type": "display_data",
          "data": {
            "image/png": "[encoded data removed]",
            "text/plain": [
              "<Figure size 864x648 with 9 Axes>"
            ]
          },
          "metadata": {
            "tags": []
          }
        }
      ]
    },
    {
      "cell_type": "code",
      "metadata": {
        "colab": {
          "base_uri": "https://localhost:8080/",
          "height": 458
        },
        "id": "hf4iW5Oq9gD4",
        "outputId": "47b3ae43-b438-48c0-be72-663e11d2f978"
      },
      "source": [
        "# Density plots\r\n",
        "\r\n",
        "df.plot(kind='density', subplots=True, layout=(4,4), sharex=False, legend=True, fontsize=1, figsize=(12,16))\r\n",
        "pplt.show()"
      ],
      "execution_count": 46,
      "outputs": [
        {
          "output_type": "display_data",
          "data": {
            "image/png": "[encoded data removed]",
            "text/plain": [
              "<Figure size 864x1152 with 16 Axes>"
            ]
          },
          "metadata": {
            "tags": []
          }
        }
      ]
    },
    {
      "cell_type": "markdown",
      "metadata": {
        "id": "jJMHmkrF--GH"
      },
      "source": [
        "model selection"
      ]
    },
    {
      "cell_type": "code",
      "metadata": {
        "colab": {
          "base_uri": "https://localhost:8080/"
        },
        "id": "sKxKqqXs9j5Y",
        "outputId": "02dad54f-9bb5-48a3-d4bd-e79de7f28606"
      },
      "source": [
        "df.columns\r\n"
      ],
      "execution_count": 47,
      "outputs": [
        {
          "output_type": "execute_result",
          "data": {
            "text/plain": [
              "Index(['workclass', 'education', 'marital', 'occupation', 'relationship',\n",
              "       'race', 'gender', 'income'],\n",
              "      dtype='object')"
            ]
          },
          "metadata": {
            "tags": []
          },
          "execution_count": 47
        }
      ]
    },
    {
      "cell_type": "markdown",
      "metadata": {
        "id": "YNkeJ9uF-6wN"
      },
      "source": [
        "ientify features"
      ]
    },
    {
      "cell_type": "code",
      "metadata": {
        "id": "477MdS5u9oHI"
      },
      "source": [
        "#Transform the data set into a data frame \r\n",
        "#NOTE: cleaned_data = the data we want, \r\n",
        "#      X axis = We concatenate the Relationship, Education,Race,Occupation columns using np.c_ provided by the numpy library\r\n",
        "#      Y axis = Our target variable or the income of adult i.e Income\r\n",
        "df_x = pd.DataFrame(df)\r\n",
        "df_x = pd.DataFrame(np.c_[df['relationship'], df['education'], df['race'],df['occupation'],df['gender'],df['marital'],df['workclass']], \r\n",
        "                    columns = ['relationship','education','race','occupation','gender','marital','workclass'])\r\n",
        "df_y = pd.DataFrame(df.income)"
      ],
      "execution_count": 49,
      "outputs": []
    },
    {
      "cell_type": "markdown",
      "metadata": {
        "id": "g2TsJXRG_INa"
      },
      "source": [
        "splitting data"
      ]
    },
    {
      "cell_type": "code",
      "metadata": {
        "colab": {
          "base_uri": "https://localhost:8080/"
        },
        "id": "dt_S765P9rRn",
        "outputId": "a9fc995b-bbff-49eb-ba64-9196d1e6cc08"
      },
      "source": [
        "#Initialize the linear regression model\r\n",
        "reg = LogisticRegression()\r\n",
        "#Split the data into 67% training and 33% testing data\r\n",
        "#NOTE: We have to split the dependent variables (x) and the target or independent variable (y)\r\n",
        "x_train, x_test, y_train, y_test = train_test_split(df_x, df_y, test_size=0.33, random_state=42)\r\n",
        "#Train our model with the training data\r\n",
        "reg.fit(x_train, y_train)\r\n",
        "print(x_train.shape)\r\n",
        "print(x_test.shape)\r\n",
        "print(y_train.shape)\r\n",
        "print(y_test.shape)"
      ],
      "execution_count": 50,
      "outputs": [
        {
          "output_type": "stream",
          "text": [
            "/usr/local/lib/python3.6/dist-packages/sklearn/utils/validation.py:760: DataConversionWarning: A column-vector y was passed when a 1d array was expected. Please change the shape of y to (n_samples, ), for example using ravel().\n",
            "  y = column_or_1d(y, warn=True)\n"
          ],
          "name": "stderr"
        },
        {
          "output_type": "stream",
          "text": [
            "(30298, 7)\n",
            "(14924, 7)\n",
            "(30298, 1)\n",
            "(14924, 1)\n"
          ],
          "name": "stdout"
        }
      ]
    },
    {
      "cell_type": "code",
      "metadata": {
        "id": "ba5J83zQ9vzb"
      },
      "source": [
        "#print our price predictions on our test data\r\n",
        "y_pred = reg.predict(x_test)"
      ],
      "execution_count": 51,
      "outputs": []
    },
    {
      "cell_type": "code",
      "metadata": {
        "id": "-TBRjd_t92OX"
      },
      "source": [
        "# Store dataframe values into a numpy array\r\n",
        "array = df.values\r\n",
        "\r\n",
        "# Separate array into input and output components by slicing\r\n",
        "# For X (input) [:, 0:0] = all the rows, columns from 0 - 13\r\n",
        "# Independent variables - input\r\n",
        "X = array[:, 0:6]\r\n",
        "\r\n",
        "# For Y (output) [:, 7] = all the rows, columns index 7 (last column)\r\n",
        "# Dependent variable = output\r\n",
        "Y = array[:,7]\r\n"
      ],
      "execution_count": 52,
      "outputs": []
    },
    {
      "cell_type": "markdown",
      "metadata": {
        "id": "B35LPORY_h2X"
      },
      "source": [
        "Prediction and Evaluation:\r\n"
      ]
    },
    {
      "cell_type": "code",
      "metadata": {
        "colab": {
          "base_uri": "https://localhost:8080/"
        },
        "id": "Ov3wfucW95NI",
        "outputId": "6fe8beeb-80e3-4f49-eb2a-d5b6025b68bb"
      },
      "source": [
        "#df['relationship'], df['education'], df['race'],df['occupation'],df['gender'],df['marital'],df['workclass']\r\n",
        "reg.predict([[5,11,0,6,0,5,5]])"
      ],
      "execution_count": 53,
      "outputs": [
        {
          "output_type": "execute_result",
          "data": {
            "text/plain": [
              "array([0])"
            ]
          },
          "metadata": {
            "tags": []
          },
          "execution_count": 53
        }
      ]
    },
    {
      "cell_type": "code",
      "metadata": {
        "colab": {
          "base_uri": "https://localhost:8080/"
        },
        "id": "4bH9GDP2-A2c",
        "outputId": "8d51ed0b-c71f-465f-e764-2a96fbe5a3e8"
      },
      "source": [
        "#Predicting the target value that is if income is <=50K then 0 if not 1 with x-axis columns as given below\r\n",
        "reg.predict([[1,7,3,7,0,2,0]])"
      ],
      "execution_count": 54,
      "outputs": [
        {
          "output_type": "execute_result",
          "data": {
            "text/plain": [
              "array([1])"
            ]
          },
          "metadata": {
            "tags": []
          },
          "execution_count": 54
        }
      ]
    },
    {
      "cell_type": "code",
      "metadata": {
        "colab": {
          "base_uri": "https://localhost:8080/"
        },
        "id": "5QFExFpS-FI_",
        "outputId": "6b2d1e51-f894-4cef-aa0d-4be6e9634a56"
      },
      "source": [
        "#Predicting the target value that is if income is <=50K then 0 if not 1 with x-axis columns as given below\r\n",
        "reg.predict([[4,12,3,7,0,0,0]])"
      ],
      "execution_count": 55,
      "outputs": [
        {
          "output_type": "execute_result",
          "data": {
            "text/plain": [
              "array([1])"
            ]
          },
          "metadata": {
            "tags": []
          },
          "execution_count": 55
        }
      ]
    },
    {
      "cell_type": "code",
      "metadata": {
        "colab": {
          "base_uri": "https://localhost:8080/"
        },
        "id": "rO2d2qQS-KU_",
        "outputId": "4506aa8c-e686-4696-a205-26fade05506e"
      },
      "source": [
        "#confusion matrix \r\n",
        "cnf_matrix = metrics.confusion_matrix(y_test, y_pred)\r\n",
        "cnf_matrix"
      ],
      "execution_count": 56,
      "outputs": [
        {
          "output_type": "execute_result",
          "data": {
            "text/plain": [
              "array([[10529,   703],\n",
              "       [ 2874,   818]])"
            ]
          },
          "metadata": {
            "tags": []
          },
          "execution_count": 56
        }
      ]
    },
    {
      "cell_type": "code",
      "metadata": {
        "colab": {
          "base_uri": "https://localhost:8080/"
        },
        "id": "BuK9S-ee-OLE",
        "outputId": "ff978116-4e2b-4852-e85c-44813c7484dd"
      },
      "source": [
        "print(\"Accuracy:\",metrics.accuracy_score(y_test, y_pred))"
      ],
      "execution_count": 57,
      "outputs": [
        {
          "output_type": "stream",
          "text": [
            "Accuracy: 0.7603189493433395\n"
          ],
          "name": "stdout"
        }
      ]
    },
    {
      "cell_type": "code",
      "metadata": {
        "colab": {
          "base_uri": "https://localhost:8080/"
        },
        "id": "2ygdCh2c-SCK",
        "outputId": "efe49173-5d15-4eb8-8cf2-bbf76973d248"
      },
      "source": [
        "# evaluate the algorithm\r\n",
        "# specify the number of time of repeated splitting, in this case 10 folds\r\n",
        "n_splits = 10\r\n",
        "\r\n",
        "# fix the random seed\r\n",
        "# must use the same seed value so that the same subsets can be obtained\r\n",
        "# for each time the process is repeated\r\n",
        "seed = 7\r\n",
        "\r\n",
        "# split the whole dataset into folds\r\n",
        "kfold = KFold(n_splits, random_state=seed)\r\n",
        "\r\n",
        "# for logistic regression, we can use the accuracy level to evaluate the model / algorithm\r\n",
        "scoring = 'accuracy'\r\n",
        "# train the model and run K-fold cross validation to validate / evaluate the model\r\n",
        "results = cross_val_score(reg,df_x,df_y, cv=kfold, scoring=scoring)\r\n",
        "# print the evaluationm results\r\n",
        "# result: the average of all the results obtained from the K-fold cross validation\r\n",
        "\r\n",
        "print(\"Accuracy: %.3f (%.3f)\" % (results.mean(), results.std()))     # Mean and Std of results"
      ],
      "execution_count": 58,
      "outputs": [
        {
          "output_type": "stream",
          "text": [
            "/usr/local/lib/python3.6/dist-packages/sklearn/model_selection/_split.py:296: FutureWarning: Setting a random_state has no effect since shuffle is False. This will raise an error in 0.24. You should leave random_state to its default (None), or set shuffle=True.\n",
            "  FutureWarning\n",
            "/usr/local/lib/python3.6/dist-packages/sklearn/utils/validation.py:760: DataConversionWarning: A column-vector y was passed when a 1d array was expected. Please change the shape of y to (n_samples, ), for example using ravel().\n",
            "  y = column_or_1d(y, warn=True)\n",
            "/usr/local/lib/python3.6/dist-packages/sklearn/utils/validation.py:760: DataConversionWarning: A column-vector y was passed when a 1d array was expected. Please change the shape of y to (n_samples, ), for example using ravel().\n",
            "  y = column_or_1d(y, warn=True)\n",
            "/usr/local/lib/python3.6/dist-packages/sklearn/utils/validation.py:760: DataConversionWarning: A column-vector y was passed when a 1d array was expected. Please change the shape of y to (n_samples, ), for example using ravel().\n",
            "  y = column_or_1d(y, warn=True)\n",
            "/usr/local/lib/python3.6/dist-packages/sklearn/utils/validation.py:760: DataConversionWarning: A column-vector y was passed when a 1d array was expected. Please change the shape of y to (n_samples, ), for example using ravel().\n",
            "  y = column_or_1d(y, warn=True)\n",
            "/usr/local/lib/python3.6/dist-packages/sklearn/utils/validation.py:760: DataConversionWarning: A column-vector y was passed when a 1d array was expected. Please change the shape of y to (n_samples, ), for example using ravel().\n",
            "  y = column_or_1d(y, warn=True)\n",
            "/usr/local/lib/python3.6/dist-packages/sklearn/utils/validation.py:760: DataConversionWarning: A column-vector y was passed when a 1d array was expected. Please change the shape of y to (n_samples, ), for example using ravel().\n",
            "  y = column_or_1d(y, warn=True)\n",
            "/usr/local/lib/python3.6/dist-packages/sklearn/utils/validation.py:760: DataConversionWarning: A column-vector y was passed when a 1d array was expected. Please change the shape of y to (n_samples, ), for example using ravel().\n",
            "  y = column_or_1d(y, warn=True)\n",
            "/usr/local/lib/python3.6/dist-packages/sklearn/utils/validation.py:760: DataConversionWarning: A column-vector y was passed when a 1d array was expected. Please change the shape of y to (n_samples, ), for example using ravel().\n",
            "  y = column_or_1d(y, warn=True)\n",
            "/usr/local/lib/python3.6/dist-packages/sklearn/utils/validation.py:760: DataConversionWarning: A column-vector y was passed when a 1d array was expected. Please change the shape of y to (n_samples, ), for example using ravel().\n",
            "  y = column_or_1d(y, warn=True)\n",
            "/usr/local/lib/python3.6/dist-packages/sklearn/utils/validation.py:760: DataConversionWarning: A column-vector y was passed when a 1d array was expected. Please change the shape of y to (n_samples, ), for example using ravel().\n",
            "  y = column_or_1d(y, warn=True)\n"
          ],
          "name": "stderr"
        },
        {
          "output_type": "stream",
          "text": [
            "Accuracy: 0.755 (0.005)\n"
          ],
          "name": "stdout"
        }
      ]
    },
    {
      "cell_type": "code",
      "metadata": {
        "colab": {
          "base_uri": "https://localhost:8080/"
        },
        "id": "-gkJBb9e-Xon",
        "outputId": "36039c94-3d83-4be4-86dc-409fcb18fc78"
      },
      "source": [
        "logit_model=sm.Logit(Y,df_x)\r\n",
        "result=logit_model.fit()\r\n",
        "print(result.summary2())"
      ],
      "execution_count": 59,
      "outputs": [
        {
          "output_type": "stream",
          "text": [
            "Optimization terminated successfully.\n",
            "         Current function value: 0.464480\n",
            "         Iterations 7\n",
            "                         Results: Logit\n",
            "=================================================================\n",
            "Model:              Logit            Pseudo R-squared: 0.171     \n",
            "Dependent Variable: y                AIC:              42023.4506\n",
            "Date:               2020-12-09 05:29 BIC:              42084.4860\n",
            "No. Observations:   45222            Log-Likelihood:   -21005.   \n",
            "Df Model:           6                LL-Null:          -25322.   \n",
            "Df Residuals:       45215            LLR p-value:      0.0000    \n",
            "Converged:          1.0000           Scale:            1.0000    \n",
            "No. Iterations:     7.0000                                       \n",
            "-----------------------------------------------------------------\n",
            "                  Coef.  Std.Err.    z     P>|z|   [0.025  0.975]\n",
            "-----------------------------------------------------------------\n",
            "relationship      0.0495   0.0078   6.3760 0.0000  0.0343  0.0647\n",
            "education         0.0619   0.0024  25.7859 0.0000  0.0572  0.0666\n",
            "race              0.3286   0.0138  23.7577 0.0000  0.3015  0.3557\n",
            "occupation       -0.0235   0.0034  -6.8651 0.0000 -0.0302 -0.0168\n",
            "gender           -0.7398   0.0330 -22.3958 0.0000 -0.8045 -0.6750\n",
            "marital          -0.5911   0.0096 -61.6701 0.0000 -0.6099 -0.5723\n",
            "workclass        -0.1115   0.0073 -15.2406 0.0000 -0.1258 -0.0972\n",
            "=================================================================\n",
            "\n"
          ],
          "name": "stdout"
        }
      ]
    },
    {
      "cell_type": "code",
      "metadata": {
        "id": "SoxInTwb-efl"
      },
      "source": [
        ""
      ],
      "execution_count": null,
      "outputs": []
    }
  ]
}